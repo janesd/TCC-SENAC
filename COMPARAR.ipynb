{
 "cells": [
  {
   "cell_type": "markdown",
   "metadata": {},
   "source": [
    "# COMPARAR.ipynb\n",
    "Esse programa usa o léxico SentilexPT para checar se os rótulos atribuídos para as frases usadas em nosso arquivo de treinamento, estão de fato corretas. \n",
    "Testei para o arquivo Suicidas_NaoSuicidas_Elizangela.csv\n",
    "Testei para o arquivo Suicidas_NaoSuicidas_Arquivo_de_Treino.csv "
   ]
  },
  {
   "cell_type": "code",
   "execution_count": 1,
   "metadata": {},
   "outputs": [],
   "source": [
    "# descobrindo qual diretório está fixado, lembrar que o formato é com  C:\\\\nome\\\\nome\\\\  \n",
    "import os\n",
    "#os.getcwd()\n",
    "\n",
    "# para modificar o diretório ...\n",
    "os.chdir('C:\\\\Users\\\\particular\\\\SERIQUE_TCC\\\\SentiLexPT02\\\\')"
   ]
  },
  {
   "cell_type": "code",
   "execution_count": 2,
   "metadata": {},
   "outputs": [],
   "source": [
    "sentilexpt = open('SentiLex_lem_PT02.txt','r', encoding=\"utf8\")"
   ]
  },
  {
   "cell_type": "code",
   "execution_count": 3,
   "metadata": {},
   "outputs": [],
   "source": [
    "dic_palavra_polaridade = {}\n",
    "for i in sentilexpt.readlines():\n",
    "    pos_ponto = i.find('.')\n",
    "    palavra = (i[:pos_ponto])    \n",
    "    pol_pos = i.find('POL:N0')    \n",
    "    polaridade = (i[pol_pos+7:pol_pos+9]).replace(';','')\n",
    "    dic_palavra_polaridade[palavra] = polaridade   "
   ]
  },
  {
   "cell_type": "code",
   "execution_count": 17,
   "metadata": {},
   "outputs": [
    {
     "data": {
      "text/html": [
       "<div>\n",
       "<style scoped>\n",
       "    .dataframe tbody tr th:only-of-type {\n",
       "        vertical-align: middle;\n",
       "    }\n",
       "\n",
       "    .dataframe tbody tr th {\n",
       "        vertical-align: top;\n",
       "    }\n",
       "\n",
       "    .dataframe thead th {\n",
       "        text-align: right;\n",
       "    }\n",
       "</style>\n",
       "<table border=\"1\" class=\"dataframe\">\n",
       "  <thead>\n",
       "    <tr style=\"text-align: right;\">\n",
       "      <th></th>\n",
       "      <th>Polaridade</th>\n",
       "      <th>Frase</th>\n",
       "      <th>Lixo</th>\n",
       "    </tr>\n",
       "  </thead>\n",
       "  <tbody>\n",
       "    <tr>\n",
       "      <th>0</th>\n",
       "      <td>Positiva</td>\n",
       "      <td>Eu tinha amigos que se cortavam então comecei ...</td>\n",
       "      <td>NaN</td>\n",
       "    </tr>\n",
       "    <tr>\n",
       "      <th>1</th>\n",
       "      <td>Positiva</td>\n",
       "      <td>Vos escrevo está carta de despedida No meio du...</td>\n",
       "      <td>NaN</td>\n",
       "    </tr>\n",
       "    <tr>\n",
       "      <th>2</th>\n",
       "      <td>Positiva</td>\n",
       "      <td>Sabe quando se perde a sensibilidade? A vida p...</td>\n",
       "      <td>NaN</td>\n",
       "    </tr>\n",
       "    <tr>\n",
       "      <th>3</th>\n",
       "      <td>Positiva</td>\n",
       "      <td>E chega uma hora que você cansa sabe... Cansa ...</td>\n",
       "      <td>NaN</td>\n",
       "    </tr>\n",
       "    <tr>\n",
       "      <th>4</th>\n",
       "      <td>Positiva</td>\n",
       "      <td>Tenho acordado todos os dias, tentando entende...</td>\n",
       "      <td>NaN</td>\n",
       "    </tr>\n",
       "  </tbody>\n",
       "</table>\n",
       "</div>"
      ],
      "text/plain": [
       "  Polaridade                                              Frase  Lixo\n",
       "0   Positiva  Eu tinha amigos que se cortavam então comecei ...   NaN\n",
       "1   Positiva  Vos escrevo está carta de despedida No meio du...   NaN\n",
       "2   Positiva  Sabe quando se perde a sensibilidade? A vida p...   NaN\n",
       "3   Positiva  E chega uma hora que você cansa sabe... Cansa ...   NaN\n",
       "4   Positiva  Tenho acordado todos os dias, tentando entende...   NaN"
      ]
     },
     "execution_count": 17,
     "metadata": {},
     "output_type": "execute_result"
    }
   ],
   "source": [
    "# o arquivo Suicidas_NaoSuicidas.csv contém a junção de Suicidas.txt e NaoSuicidas.txt do programa da Elisangela\n",
    "# só incluí a Polarização (Suicida/NaoSuicida) na frente de cada Frase\n",
    "\n",
    "import pandas as pd\n",
    "import chardet\n",
    "\n",
    "# para modificar o diretório ...\n",
    "os.chdir('C:\\\\Users\\\\particular\\\\SERIQUE_TCC\\\\')\n",
    "\n",
    "arquivo = 'Suicidas_NaoSuicidas_Elizangela.csv'\n",
    "#arquivo = 'Suicidas_NaoSuicidas_Arquivo_de_Treino.csv'\n",
    "cabecalho = ['Polaridade', 'Frase', 'Lixo']\n",
    "with open(arquivo, 'rb') as f:\n",
    "    result = chardet.detect(f.read()) \n",
    "data = pd.read_csv(arquivo, encoding=result['encoding'], sep=';', header=None, names=cabecalho)\n",
    "data.head()"
   ]
  },
  {
   "cell_type": "code",
   "execution_count": 18,
   "metadata": {},
   "outputs": [],
   "source": [
    "def Score_sentimento(frase):\n",
    "    frase = frase.lower()\n",
    "    l_sentimento = []\n",
    "    for p in frase.split():\n",
    "        l_sentimento.append(int(dic_palavra_polaridade.get(p, 0)))\n",
    "    score = sum(l_sentimento)\n",
    "    return score"
   ]
  },
  {
   "cell_type": "code",
   "execution_count": 16,
   "metadata": {},
   "outputs": [
    {
     "name": "stdout",
     "output_type": "stream",
     "text": [
      "divergencia linha= 7 resultado= -1 polaridade= Negativa\n",
      "Obrigado Deus pelo dia de hoje! \n",
      "\n",
      "divergencia linha= 29 resultado= -1 polaridade= Negativa\n",
      "Chorar litros, sorrir mares. \n",
      "\n",
      "divergencia linha= 30 resultado= -1 polaridade= Negativa\n",
      "Sem sacrifício não há vitória. \n",
      "\n",
      "divergencia linha= 46 resultado= -1 polaridade= Negativa\n",
      "Não deixe o medo te impedir de ser feliz. \n",
      "\n",
      "divergencia linha= 52 resultado= -1 polaridade= Negativa\n",
      "Aqui a tristeza dá pulos de alegria. \n",
      "\n",
      "divergencia linha= 87 resultado= -1 polaridade= Negativa\n",
      "Nada é tão contagioso como o exemplo! \n",
      "\n",
      "divergencia linha= 91 resultado= -1 polaridade= Negativa\n",
      "Às vezes eu finjo ser normal, mas aí fica chato e eu volto a ser eu mesmo. \n",
      "\n",
      "divergencia linha= 92 resultado= -1 polaridade= Negativa\n",
      "O azar não existeDeus não joga dados. \n",
      "\n",
      "divergencia linha= 96 resultado= -2 polaridade= Negativa\n",
      "Lembre-se: o uso exagerado da língua pode atrofiar o cérebro. \n",
      "\n",
      "divergencia linha= 98 resultado= -1 polaridade= Negativa\n",
      "Saber lidar com a derrota não é ser fraco, é ser humilde. \n",
      "\n",
      "divergencia linha= 108 resultado= -1 polaridade= Negativa\n",
      "A infelicidade tem isto de bom: faz-nos conhecer os verdadeiros amigos. \n",
      "\n",
      "divergencia linha= 141 resultado= -1 polaridade= Negativa\n",
      "Nunca deixe que a amargura dos outros mude quem você é. \n",
      "\n",
      "divergencia linha= 142 resultado= -1 polaridade= Negativa\n",
      "Seu valor não diminui baseado na incapacidade de alguém de percebê-lo \n",
      "\n",
      "divergencia linha= 143 resultado= -1 polaridade= Negativa\n",
      "O problema é deles, não seu. \n",
      "\n",
      "divergencia linha= 157 resultado= -1 polaridade= Negativa\n",
      "Talvez o que você mais tenha medo de fazer é exatamente o que deve ser feito \n",
      "\n",
      "divergencia linha= 168 resultado= -1 polaridade= Negativa\n",
      "Decida agora mesmo que as experiências negativas de seu passado não preverão seu futuro. \n",
      "\n",
      "divergencia linha= 194 resultado= -1 polaridade= Negativa\n",
      "O truque é desfrutar de sua vida hoje \n",
      "\n",
      "divergencia linha= 214 resultado= -1 polaridade= Negativa\n",
      "A coisa mais difícil é a decisão de agir, o resto é apenas tenacidade –  \n",
      "\n",
      "divergencia linha= 220 resultado= -1 polaridade= Negativa\n",
      "Daqui a 20 anos você estará mais decepcionado pelas coisas que você não fez, do que pelas que fez \n",
      "\n",
      "divergencia linha= 236 resultado= -1 polaridade= Negativa\n",
      "O problema é permanecer um artista depois que crescemos –  \n",
      "\n",
      "divergencia linha= 238 resultado= -2 polaridade= Negativa\n",
      "Eu aprendi que as pessoas vão esquecer o que você disse, as pessoas vão esquecer o que você fez, mas as pessoas nunca esquecerão como você as fez sentir –  \n",
      "\n",
      "divergencia linha= 250 resultado= -1 polaridade= Negativa\n",
      "Há apenas uma maneira de evitar críticas: não faça nada, não diga nada, e não seja nada –  \n",
      "\n",
      "divergencia linha= 258 resultado= -1 polaridade= Negativa\n",
      "Tudo o que você sempre quis está do outro ado do seu medo –  \n",
      "\n",
      "divergencia linha= 259 resultado= -2 polaridade= Negativa\n",
      "Nós podemos facilmente perdoar uma criança que tem medo do escuroa tragédia real da vida é quando os homens têm medo da luz –  \n",
      "\n",
      "divergencia linha= 280 resultado= -1 polaridade= Negativa\n",
      "Se os ventos não vão servir, leve os remos – \n",
      "\n",
      "divergencia linha= 281 resultado= -1 polaridade= Negativa\n",
      "Você não pode cair se não subir \n",
      "\n"
     ]
    }
   ],
   "source": [
    "# Aplica a função em cada frase do arquivo da Elizangela\n",
    "conta = 0 \n",
    "resultado = 0\n",
    "for frase, polaridade in zip(data.Frase, data.Polaridade):\n",
    "    # se o score for menor que zero então o sentimento da frase é negativo\n",
    "    resultado =  Score_sentimento(frase) \n",
    "    if resultado < 0 and polaridade == 'Negativa':\n",
    "        print('divergencia linha=', conta, 'resultado=', resultado, 'polaridade=', polaridade)\n",
    "        print(frase, '\\n')\n",
    "    conta += 1\n",
    "    #if conta > 50:\n",
    "    #    break"
   ]
  },
  {
   "cell_type": "code",
   "execution_count": null,
   "metadata": {},
   "outputs": [],
   "source": []
  }
 ],
 "metadata": {
  "kernelspec": {
   "display_name": "Python 3",
   "language": "python",
   "name": "python3"
  },
  "language_info": {
   "codemirror_mode": {
    "name": "ipython",
    "version": 3
   },
   "file_extension": ".py",
   "mimetype": "text/x-python",
   "name": "python",
   "nbconvert_exporter": "python",
   "pygments_lexer": "ipython3",
   "version": "3.7.3"
  }
 },
 "nbformat": 4,
 "nbformat_minor": 2
}
