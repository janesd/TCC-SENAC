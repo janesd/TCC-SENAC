{
 "cells": [
  {
   "cell_type": "markdown",
   "metadata": {},
   "source": [
    "### Esse programa serve para captura de Twitters que contenham a palavra informada em:\n",
    "   -  param_busca = 'suicidio'\n",
    "   -  você pode configurar se quer buscar só no site do CVV ou no geral"
   ]
  },
  {
   "cell_type": "code",
   "execution_count": 1,
   "metadata": {},
   "outputs": [],
   "source": [
    "param_busca = \"depressão\""
   ]
  },
  {
   "cell_type": "code",
   "execution_count": 2,
   "metadata": {},
   "outputs": [],
   "source": [
    "# pip install twython"
   ]
  },
  {
   "cell_type": "code",
   "execution_count": 3,
   "metadata": {},
   "outputs": [],
   "source": [
    "from twython import Twython\n",
    "import time\n",
    "import csv"
   ]
  },
  {
   "cell_type": "code",
   "execution_count": 4,
   "metadata": {},
   "outputs": [],
   "source": [
    "# alterei para utf-8 para não perder palavras acentuadas\n",
    "def deEmojify(inputString):\n",
    "    return inputString.encode('utf-8', 'ignore').decode('utf-8')\n",
    "  #  return inputString.encode('ascii', 'ignore').decode('ascii')"
   ]
  },
  {
   "cell_type": "code",
   "execution_count": 5,
   "metadata": {},
   "outputs": [],
   "source": [
    "#Token do twitter\n",
    "twitter = Twython('SCkEZ4vzW5DgTZ9VuYf3puxXp','bFR7I6ZzSzF4GO7culGBFbDT5IbBq5v4arlWk7Dc7lYsSf4ciO')\n"
   ]
  },
  {
   "cell_type": "code",
   "execution_count": 6,
   "metadata": {},
   "outputs": [
    {
     "data": {
      "text/plain": [
       "'C:\\\\Users\\\\particular\\\\SERIQUE_TCC\\\\CAPTURA TWITTERS\\\\DADOS'"
      ]
     },
     "execution_count": 6,
     "metadata": {},
     "output_type": "execute_result"
    }
   ],
   "source": [
    "import os\n",
    "os.chdir('C:\\\\Users\\\\particular\\\\SERIQUE_TCC\\\\CAPTURA TWITTERS\\\\DADOS\\\\')\n",
    "os.getcwd()\n",
    "\n",
    "# getcwd = descobre o diretório corrente\n",
    "# chdir =  para modificar o diretório ...\n",
    " "
   ]
  },
  {
   "cell_type": "code",
   "execution_count": 7,
   "metadata": {},
   "outputs": [],
   "source": [
    "# Exemplos para configurar arquivo csv\n",
    "#csv_file = open('DadosCapturados.csv', 'w')\n",
    "\n",
    "#csv_writer = csv.writer(csv_file)\n",
    "#csv_writer.writerow(['USER', 'TEXT', 'DATE'])\n"
   ]
  },
  {
   "cell_type": "code",
   "execution_count": 8,
   "metadata": {},
   "outputs": [
    {
     "data": {
      "text/plain": [
       "'twiter_depressão_2020_01_10_13_07_42.csv'"
      ]
     },
     "execution_count": 8,
     "metadata": {},
     "output_type": "execute_result"
    }
   ],
   "source": [
    "# arquivo fica com a data do dia da captura\n",
    "from datetime import datetime\n",
    "\n",
    "#NomArq = 'twiter_cvv_suicidio_' + str(datetime.now().strftime('%Y_%m_%d_%H_%M_%S')) + '.csv'\n",
    "NomArq = 'twiter_' + param_busca + '_' + str(datetime.now().strftime('%Y_%m_%d_%H_%M_%S')) + '.csv'\n",
    "NomArq\n"
   ]
  },
  {
   "cell_type": "code",
   "execution_count": 9,
   "metadata": {},
   "outputs": [
    {
     "name": "stdout",
     "output_type": "stream",
     "text": [
      "duardaxz : RT @badgallore: “Dj Rennan da penha manda pai tomar no cu”  VÃO SE FUDER, então o pai pod bater na mãe dele d quase 70 anos?SEUS HIPOCRITAS… : 2020-01-10 16:08:18\n",
      "V_vivi_iii : RT @oidesculpa: tem 1 ano que me isolei por causa da depressão, não saio pra nada  ai tem um amigo que TODA SEMANA me chama pra sair e eu r… : 2020-01-10 16:08:17\n",
      "desatricarico : RT @badgallore: “Dj Rennan da penha manda pai tomar no cu”  VÃO SE FUDER, então o pai pod bater na mãe dele d quase 70 anos?SEUS HIPOCRITAS… : 2020-01-10 16:08:17\n",
      "Saracampos08 : RT @badgallore: “Dj Rennan da penha manda pai tomar no cu”  VÃO SE FUDER, então o pai pod bater na mãe dele d quase 70 anos?SEUS HIPOCRITAS… : 2020-01-10 16:08:16\n",
      "Eulaaary : RT @badgallore: “Dj Rennan da penha manda pai tomar no cu”  VÃO SE FUDER, então o pai pod bater na mãe dele d quase 70 anos?SEUS HIPOCRITAS… : 2020-01-10 16:08:15\n",
      "maluhpoxa_ : RT @badgallore: “Dj Rennan da penha manda pai tomar no cu”  VÃO SE FUDER, então o pai pod bater na mãe dele d quase 70 anos?SEUS HIPOCRITAS… : 2020-01-10 16:08:13\n",
      "majupaganii : RT @Grazer1231: fandom tem depressão , entenda o caso : https://t.co/t04NACUyQy : 2020-01-10 16:08:13\n",
      "crypoeting : RT @oidesculpa: tem 1 ano que me isolei por causa da depressão, não saio pra nada  ai tem um amigo que TODA SEMANA me chama pra sair e eu r… : 2020-01-10 16:08:09\n",
      "soloninie : RT @oidesculpa: tem 1 ano que me isolei por causa da depressão, não saio pra nada  ai tem um amigo que TODA SEMANA me chama pra sair e eu r… : 2020-01-10 16:08:06\n",
      "jungooboss : RT @oidesculpa: tem 1 ano que me isolei por causa da depressão, não saio pra nada  ai tem um amigo que TODA SEMANA me chama pra sair e eu r… : 2020-01-10 16:08:05\n",
      "crfjlv : RT @badgallore: “Dj Rennan da penha manda pai tomar no cu”  VÃO SE FUDER, então o pai pod bater na mãe dele d quase 70 anos?SEUS HIPOCRITAS… : 2020-01-10 16:08:05\n",
      "La_Cocheto : RT @badgallore: “Dj Rennan da penha manda pai tomar no cu”  VÃO SE FUDER, então o pai pod bater na mãe dele d quase 70 anos?SEUS HIPOCRITAS… : 2020-01-10 16:08:01\n",
      "natanda027 : RT @badgallore: “Dj Rennan da penha manda pai tomar no cu”  VÃO SE FUDER, então o pai pod bater na mãe dele d quase 70 anos?SEUS HIPOCRITAS… : 2020-01-10 16:08:00\n",
      "Nuno_Costa17 : tem 6 semanas que me isolei por causa da depressão, não saio pra nada  ai tem um amigo que TODA SEMANA me chama pra sair e eu recuso pq não tenho ânimo  perguntei pq ele ainda me chamava se eu sempre recusava e ele falou que tem esperança de eu melhorar e ter minha vida de antes : 2020-01-10 16:07:59\n",
      "Jhessy282001 : RT @badgallore: “Dj Rennan da penha manda pai tomar no cu”  VÃO SE FUDER, então o pai pod bater na mãe dele d quase 70 anos?SEUS HIPOCRITAS… : 2020-01-10 16:07:58\n",
      "pxtgiovanna : RT @badgallore: “Dj Rennan da penha manda pai tomar no cu”  VÃO SE FUDER, então o pai pod bater na mãe dele d quase 70 anos?SEUS HIPOCRITAS… : 2020-01-10 16:07:51\n",
      "maringateytey : RT @bbeatrizfer: TODO MUNDO FALANDO DE MASSAGEM OU FISIOTERAPIA e eu queria aproveita o momento p fala q: gente em breve estarei atendendo… : 2020-01-10 16:07:50\n",
      "adriasousa : RT @oidesculpa: tem 1 ano que me isolei por causa da depressão, não saio pra nada  ai tem um amigo que TODA SEMANA me chama pra sair e eu r… : 2020-01-10 16:07:48\n",
      "jcjotac : RT @badgallore: “Dj Rennan da penha manda pai tomar no cu”  VÃO SE FUDER, então o pai pod bater na mãe dele d quase 70 anos?SEUS HIPOCRITAS… : 2020-01-10 16:07:48\n",
      "gabssmart : RT @badgallore: “Dj Rennan da penha manda pai tomar no cu”  VÃO SE FUDER, então o pai pod bater na mãe dele d quase 70 anos?SEUS HIPOCRITAS… : 2020-01-10 16:07:44\n",
      "clarinhageminha : RT @oidesculpa: tem 1 ano que me isolei por causa da depressão, não saio pra nada  ai tem um amigo que TODA SEMANA me chama pra sair e eu r… : 2020-01-10 16:07:42\n",
      "kahsilvakkk : RT @tisgopjl: eu me segurando pra não gritar \"AAAAA TÔ COM DEPRESSÃO\" https://t.co/jvO4heTFVc : 2020-01-10 16:07:38\n",
      "HT_VinteDois : @andrevilao22 Aaahhh tô com depressão : 2020-01-10 16:07:38\n",
      "PROFWELLERSON : @oidesculpa Força garota. Você é mais forte que a depressão.  Dê uma chance a quem quer lhe ajudar. É o primeiro passo. Abraços : 2020-01-10 16:07:37\n",
      "gandramarujo : RT @badgallore: “Dj Rennan da penha manda pai tomar no cu”  VÃO SE FUDER, então o pai pod bater na mãe dele d quase 70 anos?SEUS HIPOCRITAS… : 2020-01-10 16:07:36\n",
      "Noviinha_Lindaa : RT @badgallore: “Dj Rennan da penha manda pai tomar no cu”  VÃO SE FUDER, então o pai pod bater na mãe dele d quase 70 anos?SEUS HIPOCRITAS… : 2020-01-10 16:07:34\n",
      "ketelensouza234 : RT @badgallore: “Dj Rennan da penha manda pai tomar no cu”  VÃO SE FUDER, então o pai pod bater na mãe dele d quase 70 anos?SEUS HIPOCRITAS… : 2020-01-10 16:07:34\n",
      "luvtearz : @FolhadeA Tens a noção que ter momentos de felicidade não significa que uma pessoa não tenha depressão, mas se quiseres dou-te os numeros dos psiquiatras que me diagnosticaram pra eles te explicarem melhor isso : 2020-01-10 16:07:33\n",
      "_Kailany01 : RT @badgallore: “Dj Rennan da penha manda pai tomar no cu”  VÃO SE FUDER, então o pai pod bater na mãe dele d quase 70 anos?SEUS HIPOCRITAS… : 2020-01-10 16:07:33\n",
      "LcMelok : RT @badgallore: “Dj Rennan da penha manda pai tomar no cu”  VÃO SE FUDER, então o pai pod bater na mãe dele d quase 70 anos?SEUS HIPOCRITAS… : 2020-01-10 16:07:31\n",
      "ttdagiuliaa : RT @badgallore: “Dj Rennan da penha manda pai tomar no cu”  VÃO SE FUDER, então o pai pod bater na mãe dele d quase 70 anos?SEUS HIPOCRITAS… : 2020-01-10 16:07:31\n",
      "rebeccabrall : RT @oidesculpa: tem 1 ano que me isolei por causa da depressão, não saio pra nada  ai tem um amigo que TODA SEMANA me chama pra sair e eu r… : 2020-01-10 16:07:28\n",
      "dianaferreiraa_ : RT @oidesculpa: tem 1 ano que me isolei por causa da depressão, não saio pra nada  ai tem um amigo que TODA SEMANA me chama pra sair e eu r… : 2020-01-10 16:07:27\n",
      "Pedrinho757 : RT @badgallore: “Dj Rennan da penha manda pai tomar no cu”  VÃO SE FUDER, então o pai pod bater na mãe dele d quase 70 anos?SEUS HIPOCRITAS… : 2020-01-10 16:07:25\n",
      "eguamariah : RT @naosalvo: Dos mesmos criadores de:  STOP BEING POOR 🙏🏼😇 e PARE DE TER DEPRESSÃO ✌️🏼😎  vem ai https://t.co/XcUkjMZ9xu : 2020-01-10 16:07:23\n",
      "Victori72649047 : RT @oidesculpa: tem 1 ano que me isolei por causa da depressão, não saio pra nada  ai tem um amigo que TODA SEMANA me chama pra sair e eu r… : 2020-01-10 16:07:22\n",
      "beamuniz11 : RT @badgallore: “Dj Rennan da penha manda pai tomar no cu”  VÃO SE FUDER, então o pai pod bater na mãe dele d quase 70 anos?SEUS HIPOCRITAS… : 2020-01-10 16:07:21\n",
      "giovannavliss : RT @badgallore: “Dj Rennan da penha manda pai tomar no cu”  VÃO SE FUDER, então o pai pod bater na mãe dele d quase 70 anos?SEUS HIPOCRITAS… : 2020-01-10 16:07:20\n",
      "jennifeix : RT @badgallore: “Dj Rennan da penha manda pai tomar no cu”  VÃO SE FUDER, então o pai pod bater na mãe dele d quase 70 anos?SEUS HIPOCRITAS… : 2020-01-10 16:07:17\n",
      "mairavilhoosa : o que me entristece é saber que muitas pessoas chegaram em uma fase de não se importar com a dor do outro, parece que tudo é drama, exagero, como se depressão, baixa autoestima e ansiedade não fossem assuntos que devem ser levados a sério : 2020-01-10 16:07:16\n",
      "JOAOZINNNNN : RT @badgallore: “Dj Rennan da penha manda pai tomar no cu”  VÃO SE FUDER, então o pai pod bater na mãe dele d quase 70 anos?SEUS HIPOCRITAS… : 2020-01-10 16:07:16\n",
      "ItsBiTiEs : RT @oidesculpa: tem 1 ano que me isolei por causa da depressão, não saio pra nada  ai tem um amigo que TODA SEMANA me chama pra sair e eu r… : 2020-01-10 16:07:16\n",
      "eduardagarcyya : RT @badgallore: “Dj Rennan da penha manda pai tomar no cu”  VÃO SE FUDER, então o pai pod bater na mãe dele d quase 70 anos?SEUS HIPOCRITAS… : 2020-01-10 16:07:16\n",
      "Macielntj : RT @badgallore: “Dj Rennan da penha manda pai tomar no cu”  VÃO SE FUDER, então o pai pod bater na mãe dele d quase 70 anos?SEUS HIPOCRITAS… : 2020-01-10 16:07:16\n",
      "Jusrn81 : Depressão é uma doença desgraçada pra crlhhh : 2020-01-10 16:07:15\n",
      "Dyballa_21 : RT @badgallore: “Dj Rennan da penha manda pai tomar no cu”  VÃO SE FUDER, então o pai pod bater na mãe dele d quase 70 anos?SEUS HIPOCRITAS… : 2020-01-10 16:07:15\n",
      "beatriiixs : RT @oidesculpa: tem 1 ano que me isolei por causa da depressão, não saio pra nada  ai tem um amigo que TODA SEMANA me chama pra sair e eu r… : 2020-01-10 16:07:15\n",
      "SantoxCRF : RT @badgallore: “Dj Rennan da penha manda pai tomar no cu”  VÃO SE FUDER, então o pai pod bater na mãe dele d quase 70 anos?SEUS HIPOCRITAS… : 2020-01-10 16:07:14\n",
      "dudaa_Rpa : RT @tisgopjl: eu me segurando pra não gritar \"AAAAA TÔ COM DEPRESSÃO\" https://t.co/jvO4heTFVc : 2020-01-10 16:07:13\n",
      "ChaguesBarbara : RT @badgallore: “Dj Rennan da penha manda pai tomar no cu”  VÃO SE FUDER, então o pai pod bater na mãe dele d quase 70 anos?SEUS HIPOCRITAS… : 2020-01-10 16:07:13\n",
      "pinkppuccino : \"Então segura essa\" mds tô rachando  Socorro que xingamento mais brutal e doloroso, Toffoli deve ter entrado em uma depressão tão profunda depois dessa que nossa, virou heremita, foi meditar o sentido da vida nas montanhas do Tibete https://t.co/YiusuKqwol : 2020-01-10 16:07:13\n",
      "alycee_vieira : RT @oidesculpa: tem 1 ano que me isolei por causa da depressão, não saio pra nada  ai tem um amigo que TODA SEMANA me chama pra sair e eu r… : 2020-01-10 16:07:12\n",
      "jmjklovely_ : RT @oidesculpa: tem 1 ano que me isolei por causa da depressão, não saio pra nada  ai tem um amigo que TODA SEMANA me chama pra sair e eu r… : 2020-01-10 16:07:11\n",
      "JuliaKellerr : RT @badgallore: “Dj Rennan da penha manda pai tomar no cu”  VÃO SE FUDER, então o pai pod bater na mãe dele d quase 70 anos?SEUS HIPOCRITAS… : 2020-01-10 16:07:09\n",
      "antonia_assmann : RT @oidesculpa: tem 1 ano que me isolei por causa da depressão, não saio pra nada  ai tem um amigo que TODA SEMANA me chama pra sair e eu r… : 2020-01-10 16:07:08\n",
      "marta_isl : RT @oidesculpa: tem 1 ano que me isolei por causa da depressão, não saio pra nada  ai tem um amigo que TODA SEMANA me chama pra sair e eu r… : 2020-01-10 16:07:05\n",
      "Lukas_dsr : RT @pedru_o: Aaaaaaaaaaa, aaaaaaaaaaaa to com depressão em : 2020-01-10 16:07:03\n",
      "pedro_bai : RT @tisgopjl: eu me segurando pra não gritar \"AAAAA TÔ COM DEPRESSÃO\" https://t.co/jvO4heTFVc : 2020-01-10 16:07:01\n",
      "laurethingx : RT @badgallore: “Dj Rennan da penha manda pai tomar no cu”  VÃO SE FUDER, então o pai pod bater na mãe dele d quase 70 anos?SEUS HIPOCRITAS… : 2020-01-10 16:07:00\n",
      "betahh45 : RT @badgallore: “Dj Rennan da penha manda pai tomar no cu”  VÃO SE FUDER, então o pai pod bater na mãe dele d quase 70 anos?SEUS HIPOCRITAS… : 2020-01-10 16:06:59\n",
      "ScarabotoRhanya : RT @badgallore: “Dj Rennan da penha manda pai tomar no cu”  VÃO SE FUDER, então o pai pod bater na mãe dele d quase 70 anos?SEUS HIPOCRITAS… : 2020-01-10 16:06:59\n",
      "mrperettiCRF : RT @nafeshenefeldt: ter depressão e ser médium me torna uma esponja, as vezes eu não queria absorver tanta coisa dos outros.... : 2020-01-10 16:06:57\n",
      "Targinoo3 : RT @badgallore: “Dj Rennan da penha manda pai tomar no cu”  VÃO SE FUDER, então o pai pod bater na mãe dele d quase 70 anos?SEUS HIPOCRITAS… : 2020-01-10 16:06:55\n"
     ]
    },
    {
     "name": "stdout",
     "output_type": "stream",
     "text": [
      "oncevante : RT @oidesculpa: tem 1 ano que me isolei por causa da depressão, não saio pra nada  ai tem um amigo que TODA SEMANA me chama pra sair e eu r… : 2020-01-10 16:06:54\n",
      "GabrielaKathle7 : Apresento a vcs um bbk  q não sabe guarda a opinião dele. Aprenda se sua opinião for magoar alguém ou não for ajudar , não de ... Não é pq é uma criança pq se fosse um adulto q tem depressão vc só iria magoar a pessoa. Mas no momento se trata de uma opinião q ninguém te pediu https://t.co/YdmosbRQlU : 2020-01-10 16:06:54\n",
      "_belma2 : RT @badgallore: “Dj Rennan da penha manda pai tomar no cu”  VÃO SE FUDER, então o pai pod bater na mãe dele d quase 70 anos?SEUS HIPOCRITAS… : 2020-01-10 16:06:54\n",
      "Emilly35130058 : RT @oidesculpa: tem 1 ano que me isolei por causa da depressão, não saio pra nada  ai tem um amigo que TODA SEMANA me chama pra sair e eu r… : 2020-01-10 16:06:54\n",
      "allihoffmann2 : RT @badgallore: “Dj Rennan da penha manda pai tomar no cu”  VÃO SE FUDER, então o pai pod bater na mãe dele d quase 70 anos?SEUS HIPOCRITAS… : 2020-01-10 16:06:51\n",
      "thelicalii : que lindinho❤ já passei por isso mas demorou muito pra eu associar e aceitar que era por causa da ansiedade e depressão antes de buscar ajuda médica e psicológica https://t.co/RvggjVVXwn : 2020-01-10 16:06:49\n",
      "tmyle7 : RT @badgallore: “Dj Rennan da penha manda pai tomar no cu”  VÃO SE FUDER, então o pai pod bater na mãe dele d quase 70 anos?SEUS HIPOCRITAS… : 2020-01-10 16:06:48\n",
      "ohmidna : RT @oidesculpa: tem 1 ano que me isolei por causa da depressão, não saio pra nada  ai tem um amigo que TODA SEMANA me chama pra sair e eu r… : 2020-01-10 16:06:47\n",
      "gleicegomess : RT @badgallore: “Dj Rennan da penha manda pai tomar no cu”  VÃO SE FUDER, então o pai pod bater na mãe dele d quase 70 anos?SEUS HIPOCRITAS… : 2020-01-10 16:06:46\n",
      "lucas0902_ : RT @oidesculpa: tem 1 ano que me isolei por causa da depressão, não saio pra nada  ai tem um amigo que TODA SEMANA me chama pra sair e eu r… : 2020-01-10 16:06:44\n",
      "crf_livyan : RT @badgallore: “Dj Rennan da penha manda pai tomar no cu”  VÃO SE FUDER, então o pai pod bater na mãe dele d quase 70 anos?SEUS HIPOCRITAS… : 2020-01-10 16:06:40\n",
      "Thamy_th_ : RT @badgallore: “Dj Rennan da penha manda pai tomar no cu”  VÃO SE FUDER, então o pai pod bater na mãe dele d quase 70 anos?SEUS HIPOCRITAS… : 2020-01-10 16:06:37\n",
      "katrinaadance : RT @badgallore: “Dj Rennan da penha manda pai tomar no cu”  VÃO SE FUDER, então o pai pod bater na mãe dele d quase 70 anos?SEUS HIPOCRITAS… : 2020-01-10 16:06:37\n",
      "giosnl : RT @badgallore: “Dj Rennan da penha manda pai tomar no cu”  VÃO SE FUDER, então o pai pod bater na mãe dele d quase 70 anos?SEUS HIPOCRITAS… : 2020-01-10 16:06:36\n",
      "martinhojulia33 : RT @badgallore: “Dj Rennan da penha manda pai tomar no cu”  VÃO SE FUDER, então o pai pod bater na mãe dele d quase 70 anos?SEUS HIPOCRITAS… : 2020-01-10 16:06:36\n",
      "uvinhaaa_ : RT @badgallore: “Dj Rennan da penha manda pai tomar no cu”  VÃO SE FUDER, então o pai pod bater na mãe dele d quase 70 anos?SEUS HIPOCRITAS… : 2020-01-10 16:06:34\n",
      "alguemneamado : RT @badgallore: “Dj Rennan da penha manda pai tomar no cu”  VÃO SE FUDER, então o pai pod bater na mãe dele d quase 70 anos?SEUS HIPOCRITAS… : 2020-01-10 16:06:33\n",
      "EoPlayba_ : RT @badgallore: “Dj Rennan da penha manda pai tomar no cu”  VÃO SE FUDER, então o pai pod bater na mãe dele d quase 70 anos?SEUS HIPOCRITAS… : 2020-01-10 16:06:32\n",
      "xxleticia_ : RT @badgallore: “Dj Rennan da penha manda pai tomar no cu”  VÃO SE FUDER, então o pai pod bater na mãe dele d quase 70 anos?SEUS HIPOCRITAS… : 2020-01-10 16:06:28\n",
      "cellacrf1 : RT @badgallore: “Dj Rennan da penha manda pai tomar no cu”  VÃO SE FUDER, então o pai pod bater na mãe dele d quase 70 anos?SEUS HIPOCRITAS… : 2020-01-10 16:06:27\n",
      "jeniffersfb : Dps da partida do Diego, se eu der uma brecha a depressão me pega fácil. É maior luta, só eu sei, Mts pensamentos suicida, meu ponto forte nisso tudo é pensar q minha mãe já sofreu mt e não merece mais dor..... Mas tá aí, as lutas q ngm ver : 2020-01-10 16:06:27\n",
      "muh_rike : Eu serei eternamente grato por você, @selenagomez por esse álbum.  Cada letra e música há uma conexão comigo... Eu que tenho depressão, ansiedade, baixa auto estima, esse álbum conseguiu me fazer tão bem, tão raro. Eu te amo tanto. #SelenaGomez #RareOutNow #SGRare #SG2 #ImSoRare https://t.co/X57egE3A1d : 2020-01-10 16:06:25\n",
      "rjbrendaa : RT @badgallore: “Dj Rennan da penha manda pai tomar no cu”  VÃO SE FUDER, então o pai pod bater na mãe dele d quase 70 anos?SEUS HIPOCRITAS… : 2020-01-10 16:06:25\n",
      "yurimatheus973 : RT @badgallore: “Dj Rennan da penha manda pai tomar no cu”  VÃO SE FUDER, então o pai pod bater na mãe dele d quase 70 anos?SEUS HIPOCRITAS… : 2020-01-10 16:06:24\n",
      "ThaysCPereira : RT @badgallore: “Dj Rennan da penha manda pai tomar no cu”  VÃO SE FUDER, então o pai pod bater na mãe dele d quase 70 anos?SEUS HIPOCRITAS… : 2020-01-10 16:06:23\n",
      "odeiobozonaro : RT @oidesculpa: tem 1 ano que me isolei por causa da depressão, não saio pra nada  ai tem um amigo que TODA SEMANA me chama pra sair e eu r… : 2020-01-10 16:06:23\n",
      "geovannaroch777 : RT @badgallore: “Dj Rennan da penha manda pai tomar no cu”  VÃO SE FUDER, então o pai pod bater na mãe dele d quase 70 anos?SEUS HIPOCRITAS… : 2020-01-10 16:06:17\n",
      "tete0229 : RT @badgallore: “Dj Rennan da penha manda pai tomar no cu”  VÃO SE FUDER, então o pai pod bater na mãe dele d quase 70 anos?SEUS HIPOCRITAS… : 2020-01-10 16:06:16\n",
      "UATANABI_ : RT @oidesculpa: tem 1 ano que me isolei por causa da depressão, não saio pra nada  ai tem um amigo que TODA SEMANA me chama pra sair e eu r… : 2020-01-10 16:06:14\n",
      "Jeane43115001 : RT @badgallore: “Dj Rennan da penha manda pai tomar no cu”  VÃO SE FUDER, então o pai pod bater na mãe dele d quase 70 anos?SEUS HIPOCRITAS… : 2020-01-10 16:06:14\n",
      "Cassian40320051 : RT @badgallore: “Dj Rennan da penha manda pai tomar no cu”  VÃO SE FUDER, então o pai pod bater na mãe dele d quase 70 anos?SEUS HIPOCRITAS… : 2020-01-10 16:06:14\n",
      "zxhtxn : RT @badgallore: “Dj Rennan da penha manda pai tomar no cu”  VÃO SE FUDER, então o pai pod bater na mãe dele d quase 70 anos?SEUS HIPOCRITAS… : 2020-01-10 16:06:12\n",
      "Gyovanna___ : RT @badgallore: “Dj Rennan da penha manda pai tomar no cu”  VÃO SE FUDER, então o pai pod bater na mãe dele d quase 70 anos?SEUS HIPOCRITAS… : 2020-01-10 16:06:10\n",
      "CarlosAlves1995 : RT @Esp_Interativo: QUE P**** FOI ESSA??? 😱😱😱😱  Crédito: Facebook/ FIFA da depressão https://t.co/zdZQa0XOMp : 2020-01-10 16:06:10\n",
      "CrfArtP7 : RT @badgallore: “Dj Rennan da penha manda pai tomar no cu”  VÃO SE FUDER, então o pai pod bater na mãe dele d quase 70 anos?SEUS HIPOCRITAS… : 2020-01-10 16:06:10\n",
      "Kathellynvicto4 : RT @badgallore: “Dj Rennan da penha manda pai tomar no cu”  VÃO SE FUDER, então o pai pod bater na mãe dele d quase 70 anos?SEUS HIPOCRITAS… : 2020-01-10 16:06:09\n",
      "asaopaulinaa : RT @oidesculpa: tem 1 ano que me isolei por causa da depressão, não saio pra nada  ai tem um amigo que TODA SEMANA me chama pra sair e eu r… : 2020-01-10 16:06:08\n"
     ]
    }
   ],
   "source": [
    "#Busca pelos tweets contendo a palavra suicidio direcionada para página do CVV,\n",
    "#se quiser colocar mais páginas, basta incluir OR @nomeDaPágina.\n",
    "\n",
    "#for status in twitter.search(q=param_busca + '(@CVVoficial) lang:pt since:2019-09-24', tweet_mode='extended', count=1000)['statuses']:\n",
    "for status in twitter.search(q=param_busca, tweet_mode='extended', count=1000)['statuses']:\n",
    "    user = status['user']['screen_name']  \n",
    "    text =  deEmojify(status['full_text']).replace('\\n', ' ')\n",
    "    ts = time.strftime('%Y-%m-%d %H:%M:%S', time.strptime(status['created_at'],'%a %b %d %H:%M:%S +0000 %Y'))\n",
    "    Date = ts\n",
    "    \n",
    "    print(user, \":\", text, \":\", Date)\n",
    "    print                       \n",
    "\n",
    "    #Adicionando no csv\n",
    "    #with open('twitter_suicidio.csv', 'a', newline='', encoding='utf-8') as csvFile:\n",
    "    with open(NomArq, 'a', newline='', encoding='utf-8') as csvFile:\n",
    "        row = [user, text, Date, '\\n']    \n",
    "        writer = csv.writer(csvFile, delimiter=\";\")\n",
    "        writer.writerow(row)\n",
    "    csvFile.close()\n"
   ]
  },
  {
   "cell_type": "code",
   "execution_count": 10,
   "metadata": {},
   "outputs": [
    {
     "name": "stdout",
     "output_type": "stream",
     "text": [
      "ACABEI!\n"
     ]
    }
   ],
   "source": [
    "print('ACABEI!' )"
   ]
  },
  {
   "cell_type": "code",
   "execution_count": null,
   "metadata": {},
   "outputs": [],
   "source": []
  }
 ],
 "metadata": {
  "kernelspec": {
   "display_name": "Python 3",
   "language": "python",
   "name": "python3"
  },
  "language_info": {
   "codemirror_mode": {
    "name": "ipython",
    "version": 3
   },
   "file_extension": ".py",
   "mimetype": "text/x-python",
   "name": "python",
   "nbconvert_exporter": "python",
   "pygments_lexer": "ipython3",
   "version": "3.7.3"
  }
 },
 "nbformat": 4,
 "nbformat_minor": 2
}
