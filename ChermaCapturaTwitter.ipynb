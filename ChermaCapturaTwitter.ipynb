{
 "cells": [
  {
   "cell_type": "code",
   "execution_count": 9,
   "metadata": {},
   "outputs": [],
   "source": [
    "# pip install twython"
   ]
  },
  {
   "cell_type": "code",
   "execution_count": 10,
   "metadata": {},
   "outputs": [],
   "source": [
    "from twython import Twython\n",
    "import time\n",
    "import csv"
   ]
  },
  {
   "cell_type": "code",
   "execution_count": 11,
   "metadata": {},
   "outputs": [],
   "source": [
    "def deEmojify(inputString):\n",
    "    return inputString.encode('ascii', 'ignore').decode('ascii')"
   ]
  },
  {
   "cell_type": "code",
   "execution_count": 12,
   "metadata": {},
   "outputs": [],
   "source": [
    "#Token do twitter\n",
    "twitter = Twython('SCkEZ4vzW5DgTZ9VuYf3puxXp','bFR7I6ZzSzF4GO7culGBFbDT5IbBq5v4arlWk7Dc7lYsSf4ciO')\n"
   ]
  },
  {
   "cell_type": "code",
   "execution_count": 13,
   "metadata": {},
   "outputs": [
    {
     "data": {
      "text/plain": [
       "'C:\\\\Users\\\\particular\\\\SERIQUE2'"
      ]
     },
     "execution_count": 13,
     "metadata": {},
     "output_type": "execute_result"
    }
   ],
   "source": [
    "import os\n",
    "os.getcwd()"
   ]
  },
  {
   "cell_type": "code",
   "execution_count": 14,
   "metadata": {},
   "outputs": [],
   "source": [
    "# para configurar arquivo csv\n",
    "#csv_file = open('DadosCapturados.csv', 'w')\n",
    "\n",
    "#csv_writer = csv.writer(csv_file)\n",
    "#csv_writer.writerow(['USER', 'TEXT', 'DATE'])\n"
   ]
  },
  {
   "cell_type": "code",
   "execution_count": 15,
   "metadata": {},
   "outputs": [
    {
     "data": {
      "text/plain": [
       "'twiter_suicidio_2019_11_05_09_31_07.csv'"
      ]
     },
     "execution_count": 15,
     "metadata": {},
     "output_type": "execute_result"
    }
   ],
   "source": [
    "# arquivo fica com a data do dia da captura\n",
    "\n",
    "from datetime import datetime\n",
    "NomArq = 'twiter_suicidio_' + str(datetime.now().strftime('%Y_%m_%d_%H_%M_%S')) + '.csv'\n",
    "NomArq\n"
   ]
  },
  {
   "cell_type": "code",
   "execution_count": null,
   "metadata": {},
   "outputs": [],
   "source": [
    "#Busca pelos tweets contendo a palavra suicidio direcionada para página do CVV,\n",
    "#se quiser colocar mais páginas, basta incluir OR @nomeDaPágina.\n",
    "\n",
    "#for status in twitter.search(q='suicidio (@CVVoficial) lang:pt since:2019-09-24', tweet_mode='extended', count=1000)['statuses']:\n",
    "for status in twitter.search(q='suicidio', tweet_mode='extended', count=1000)['statuses']:\n",
    "    user = status['user']['screen_name']  \n",
    "    text =  deEmojify(status['full_text']).replace('\\n', ' ')\n",
    "    ts = time.strftime('%Y-%m-%d %H:%M:%S', time.strptime(status['created_at'],'%a %b %d %H:%M:%S +0000 %Y'))\n",
    "    Date = ts\n",
    "    \n",
    "    print(user, \":\", text, \":\", Date)\n",
    "    print                       \n",
    "\n",
    "    #Adicionando no csv\n",
    "    #with open('twitter_suicidio.csv', 'a', newline='', encoding='utf-8') as csvFile:\n",
    "    with open(NomArq, 'a', newline='', encoding='utf-8') as csvFile:\n",
    "        row = [user, text, Date, '\\n']    \n",
    "        writer = csv.writer(csvFile)\n",
    "        writer.writerow(row)\n",
    "    csvFile.close()\n"
   ]
  },
  {
   "cell_type": "code",
   "execution_count": 17,
   "metadata": {},
   "outputs": [
    {
     "name": "stdout",
     "output_type": "stream",
     "text": [
      "ACABEI!\n"
     ]
    }
   ],
   "source": [
    "print('ACABEI!' )"
   ]
  },
  {
   "cell_type": "code",
   "execution_count": null,
   "metadata": {},
   "outputs": [],
   "source": []
  }
 ],
 "metadata": {
  "kernelspec": {
   "display_name": "Python 3",
   "language": "python",
   "name": "python3"
  },
  "language_info": {
   "codemirror_mode": {
    "name": "ipython",
    "version": 3
   },
   "file_extension": ".py",
   "mimetype": "text/x-python",
   "name": "python",
   "nbconvert_exporter": "python",
   "pygments_lexer": "ipython3",
   "version": "3.7.3"
  }
 },
 "nbformat": 4,
 "nbformat_minor": 2
}
