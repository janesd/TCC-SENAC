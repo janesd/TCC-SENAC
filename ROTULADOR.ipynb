{
 "cells": [
  {
   "cell_type": "markdown",
   "metadata": {},
   "source": [
    "# ROTULADOR.ipynb\n",
    "Esse programa usa o léxico SentilexPT para rotular frases como 'Positivas' ou 'Negativas' de acordo com o cálculo do sentimento existente nas frases."
   ]
  },
  {
   "cell_type": "code",
   "execution_count": 1,
   "metadata": {},
   "outputs": [],
   "source": [
    "# descobrindo qual diretório está fixado, lembrar que o formato é com  C:\\\\nome\\\\nome\\\\  \n",
    "import os\n",
    "#os.getcwd()\n",
    "\n",
    "# para modificar o diretório ...\n",
    "os.chdir('C:\\\\Users\\\\particular\\\\SERIQUE_TCC\\\\SentiLexPT02\\\\')"
   ]
  },
  {
   "cell_type": "code",
   "execution_count": 2,
   "metadata": {},
   "outputs": [],
   "source": [
    "sentilexpt = open('SentiLex_lem_PT02.txt','r', encoding=\"utf8\")"
   ]
  },
  {
   "cell_type": "code",
   "execution_count": 3,
   "metadata": {},
   "outputs": [],
   "source": [
    "dic_palavra_polaridade = {}\n",
    "for i in sentilexpt.readlines():\n",
    "    pos_ponto = i.find('.')\n",
    "    palavra = (i[:pos_ponto])    \n",
    "    pol_pos = i.find('POL:N0')    \n",
    "    polaridade = (i[pol_pos+7:pol_pos+9]).replace(';','')\n",
    "    dic_palavra_polaridade[palavra] = polaridade   "
   ]
  },
  {
   "cell_type": "code",
   "execution_count": 4,
   "metadata": {},
   "outputs": [
    {
     "data": {
      "text/html": [
       "<div>\n",
       "<style scoped>\n",
       "    .dataframe tbody tr th:only-of-type {\n",
       "        vertical-align: middle;\n",
       "    }\n",
       "\n",
       "    .dataframe tbody tr th {\n",
       "        vertical-align: top;\n",
       "    }\n",
       "\n",
       "    .dataframe thead th {\n",
       "        text-align: right;\n",
       "    }\n",
       "</style>\n",
       "<table border=\"1\" class=\"dataframe\">\n",
       "  <thead>\n",
       "    <tr style=\"text-align: right;\">\n",
       "      <th></th>\n",
       "      <th>conteudo</th>\n",
       "    </tr>\n",
       "  </thead>\n",
       "  <tbody>\n",
       "    <tr>\n",
       "      <th>0</th>\n",
       "      <td>Todos nós somos ansiosos, em uma escala menor ...</td>\n",
       "    </tr>\n",
       "    <tr>\n",
       "      <th>1</th>\n",
       "      <td>Por outro lado, é necessário pontuar que a ans...</td>\n",
       "    </tr>\n",
       "    <tr>\n",
       "      <th>2</th>\n",
       "      <td>Em alguns momentos da vida todo mundo se sente...</td>\n",
       "    </tr>\n",
       "    <tr>\n",
       "      <th>3</th>\n",
       "      <td>Um número muito grande de pessoas procuram os ...</td>\n",
       "    </tr>\n",
       "    <tr>\n",
       "      <th>4</th>\n",
       "      <td>A fobia social é um transtorno de ansiedade do...</td>\n",
       "    </tr>\n",
       "  </tbody>\n",
       "</table>\n",
       "</div>"
      ],
      "text/plain": [
       "                                            conteudo\n",
       "0  Todos nós somos ansiosos, em uma escala menor ...\n",
       "1  Por outro lado, é necessário pontuar que a ans...\n",
       "2  Em alguns momentos da vida todo mundo se sente...\n",
       "3  Um número muito grande de pessoas procuram os ...\n",
       "4  A fobia social é um transtorno de ansiedade do..."
      ]
     },
     "execution_count": 4,
     "metadata": {},
     "output_type": "execute_result"
    }
   ],
   "source": [
    "# o arquivo Suicidas_NaoSuicidas.csv contém a junção de Suicidas.txt e NaoSuicidas.txt do programa da Elisangela\n",
    "# só incluí a Polarização (Suicida/NaoSuicida) na frente de cada Frase\n",
    "\n",
    "import pandas as pd\n",
    "import chardet\n",
    "\n",
    "# para modificar o diretório ...\n",
    "os.chdir('C:\\\\Users\\\\particular\\\\SERIQUE_TCC\\\\')\n",
    "\n",
    "arquivo = 'Frases.txt'\n",
    "cabecalho = ['conteudo']\n",
    "with open(arquivo, 'rb') as f:\n",
    "    result = chardet.detect(f.read()) \n",
    "data = pd.read_csv(arquivo, encoding=result['encoding'], sep=';', header=None, names=cabecalho)\n",
    "data.head()"
   ]
  },
  {
   "cell_type": "code",
   "execution_count": 5,
   "metadata": {},
   "outputs": [
    {
     "name": "stdout",
     "output_type": "stream",
     "text": [
      "Por outro lado, é necessário pontuar que a ansiedade não é apenas um fenômeno patológico, pois ela também está presente no ciclo de vida do ser humano e contempla algumas fases do desenvolvimento.\n"
     ]
    }
   ],
   "source": [
    "print(data.conteudo[1])\n"
   ]
  },
  {
   "cell_type": "code",
   "execution_count": 6,
   "metadata": {},
   "outputs": [],
   "source": [
    "def Score_sentimento(frase):\n",
    "    frase = frase.lower()\n",
    "    l_sentimento = []\n",
    "    for p in frase.split():\n",
    "        l_sentimento.append(int(dic_palavra_polaridade.get(p, 0)))\n",
    "    score = sum(l_sentimento)\n",
    "    return score"
   ]
  },
  {
   "cell_type": "code",
   "execution_count": 7,
   "metadata": {},
   "outputs": [],
   "source": [
    "# Aplica a função de cálculo de sentimento para cada frase do arquivo\n",
    "import re\n",
    "\n",
    "saida = {}\n",
    "label = '' \n",
    "resultado = 0 \n",
    "nr = 0 \n",
    "for frase in data.conteudo:\n",
    "    # se o score for menor que zero então o sentimento da frase é negativo\n",
    "    resultado = Score_sentimento(frase)\n",
    "    if  resultado  > 0:\n",
    "        label = 'POSITIVO'\n",
    "    elif resultado == 0:\n",
    "        label = 'NEUTRO'\n",
    "    else:\n",
    "        label = 'NEGATIVO'\n",
    "        \n",
    "    saida[nr] = label + \",\" +  re.sub(r'\\r\\n','',frase)\n",
    "    nr += 1   "
   ]
  },
  {
   "cell_type": "code",
   "execution_count": 8,
   "metadata": {},
   "outputs": [],
   "source": [
    "import csv\n",
    "\n",
    "from datetime import datetime\n",
    "NomArq = 'Frases_Rotuladas_' + str(datetime.now().strftime('%Y_%m_%d_%H_%M_%S')) + '.csv'\n",
    "NomArq\n",
    "with open(NomArq,'w') as f:\n",
    "    w = csv.writer(f)\n",
    "    w.writerows(saida.items())"
   ]
  },
  {
   "cell_type": "code",
   "execution_count": null,
   "metadata": {},
   "outputs": [],
   "source": []
  }
 ],
 "metadata": {
  "kernelspec": {
   "display_name": "Python 3",
   "language": "python",
   "name": "python3"
  },
  "language_info": {
   "codemirror_mode": {
    "name": "ipython",
    "version": 3
   },
   "file_extension": ".py",
   "mimetype": "text/x-python",
   "name": "python",
   "nbconvert_exporter": "python",
   "pygments_lexer": "ipython3",
   "version": "3.7.3"
  }
 },
 "nbformat": 4,
 "nbformat_minor": 2
}
