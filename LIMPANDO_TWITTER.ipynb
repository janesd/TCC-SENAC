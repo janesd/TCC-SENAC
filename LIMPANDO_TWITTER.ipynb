{
 "cells": [
  {
   "cell_type": "markdown",
   "metadata": {},
   "source": [
    "# LIMPANDO_TWITTER \n",
    " - Naive Bayes "
   ]
  },
  {
   "cell_type": "markdown",
   "metadata": {},
   "source": [
    "## Análise de Sentimentos"
   ]
  },
  {
   "cell_type": "code",
   "execution_count": 1,
   "metadata": {},
   "outputs": [],
   "source": [
    "import nltk\n",
    "import re\n",
    "import pandas as pd\n",
    "from sklearn.feature_extraction.text import CountVectorizer\n",
    "from sklearn.naive_bayes import MultinomialNB\n",
    "from sklearn import metrics\n",
    "from sklearn.model_selection import cross_val_predict\n",
    "import os\n",
    "import chardet"
   ]
  },
  {
   "cell_type": "code",
   "execution_count": 2,
   "metadata": {},
   "outputs": [
    {
     "data": {
      "text/plain": [
       "'C:\\\\Users\\\\particular\\\\SERIQUE_TCC\\\\CAPTURA TWITTERS'"
      ]
     },
     "execution_count": 2,
     "metadata": {},
     "output_type": "execute_result"
    }
   ],
   "source": [
    "# getcwd = descobrindo qual diretório está fixado, lembrar que o formato é com  C:\\\\nome\\\\nome\\\\  \n",
    "# chfdir = para indicar o diretório de trabalho ...\n",
    "\n",
    "os.chdir('C:\\\\Users\\\\particular\\\\SERIQUE_TCC\\\\CAPTURA TWITTERS\\\\')\n",
    "os.getcwd()"
   ]
  },
  {
   "cell_type": "markdown",
   "metadata": {},
   "source": [
    "#### TRATA_DADOS\n",
    "- Junta todos os arquivos do tipo *.csv que existirem no diretório \\DADOS para dentro de um único arquivo\n",
    "- Limpa caracteres desnecessários, deleta colunas desnecessárias"
   ]
  },
  {
   "cell_type": "code",
   "execution_count": 3,
   "metadata": {},
   "outputs": [
    {
     "data": {
      "text/html": [
       "<div>\n",
       "<style scoped>\n",
       "    .dataframe tbody tr th:only-of-type {\n",
       "        vertical-align: middle;\n",
       "    }\n",
       "\n",
       "    .dataframe tbody tr th {\n",
       "        vertical-align: top;\n",
       "    }\n",
       "\n",
       "    .dataframe thead th {\n",
       "        text-align: right;\n",
       "    }\n",
       "</style>\n",
       "<table border=\"1\" class=\"dataframe\">\n",
       "  <thead>\n",
       "    <tr style=\"text-align: right;\">\n",
       "      <th></th>\n",
       "      <th>Usuario</th>\n",
       "      <th>Texto</th>\n",
       "      <th>Data</th>\n",
       "    </tr>\n",
       "  </thead>\n",
       "  <tbody>\n",
       "    <tr>\n",
       "      <th>0</th>\n",
       "      <td>eudavireis</td>\n",
       "      <td>RT @MaraTellesReal: Austrália - o suicídio de ...</td>\n",
       "      <td>2020-01-10 15:54:23</td>\n",
       "    </tr>\n",
       "    <tr>\n",
       "      <th>1</th>\n",
       "      <td>Agu58414164</td>\n",
       "      <td>#Navarro2023 recién dijeron que lo inducieron ...</td>\n",
       "      <td>2020-01-10 15:54:23</td>\n",
       "    </tr>\n",
       "    <tr>\n",
       "      <th>2</th>\n",
       "      <td>JuncoWelsh</td>\n",
       "      <td>RT @JCuenta1000: @Andguel SI !  LO FUE ....! (...</td>\n",
       "      <td>2020-01-10 15:54:19</td>\n",
       "    </tr>\n",
       "    <tr>\n",
       "      <th>3</th>\n",
       "      <td>rockertux</td>\n",
       "      <td>RT @aaahcarol: vamos falar sobre saúde mental?...</td>\n",
       "      <td>2020-01-10 15:54:16</td>\n",
       "    </tr>\n",
       "    <tr>\n",
       "      <th>4</th>\n",
       "      <td>kasouzasz</td>\n",
       "      <td>RT @Larissathielly3: Sextou cm S de suicídio</td>\n",
       "      <td>2020-01-10 15:54:08</td>\n",
       "    </tr>\n",
       "  </tbody>\n",
       "</table>\n",
       "</div>"
      ],
      "text/plain": [
       "       Usuario                                              Texto  \\\n",
       "0   eudavireis  RT @MaraTellesReal: Austrália - o suicídio de ...   \n",
       "1  Agu58414164  #Navarro2023 recién dijeron que lo inducieron ...   \n",
       "2   JuncoWelsh  RT @JCuenta1000: @Andguel SI !  LO FUE ....! (...   \n",
       "3    rockertux  RT @aaahcarol: vamos falar sobre saúde mental?...   \n",
       "4    kasouzasz       RT @Larissathielly3: Sextou cm S de suicídio   \n",
       "\n",
       "                  Data  \n",
       "0  2020-01-10 15:54:23  \n",
       "1  2020-01-10 15:54:23  \n",
       "2  2020-01-10 15:54:19  \n",
       "3  2020-01-10 15:54:16  \n",
       "4  2020-01-10 15:54:08  "
      ]
     },
     "execution_count": 3,
     "metadata": {},
     "output_type": "execute_result"
    }
   ],
   "source": [
    "import glob\n",
    "import os\n",
    "import pandas as pd\n",
    "\n",
    "cabecalho = ['Usuario','Texto','Data']\n",
    "\n",
    "folder_name = 'DADOS'\n",
    "file_type = 'csv'\n",
    "separator =';'\n",
    "\n",
    "dataset = pd.concat([pd.read_csv(f, sep=separator, header=None, usecols=[0,1,2], names=cabecalho) for f in glob.glob(folder_name + \"/*.\"+file_type)], ignore_index=True, axis=0)\n",
    "#dataset = pd.concat([pd.read_csv(f, sep=separator, header=None, usecols=[0,1,2], names=cabecalho) for f in glob.glob(folder_name + \"/*.\"+file_type)], ignore_index=True)\n",
    "\n",
    "dataset.to_csv('total_arquivos.csv', sep=separator)\n",
    "dataset.head()\n",
    "\n"
   ]
  },
  {
   "cell_type": "code",
   "execution_count": 4,
   "metadata": {},
   "outputs": [
    {
     "name": "stdout",
     "output_type": "stream",
     "text": [
      "<class 'pandas.core.frame.DataFrame'>\n",
      "RangeIndex: 500 entries, 0 to 499\n",
      "Data columns (total 3 columns):\n",
      "Usuario    500 non-null object\n",
      "Texto      500 non-null object\n",
      "Data       500 non-null object\n",
      "dtypes: object(3)\n",
      "memory usage: 11.8+ KB\n"
     ]
    }
   ],
   "source": [
    "dataset.info()"
   ]
  },
  {
   "cell_type": "code",
   "execution_count": 5,
   "metadata": {},
   "outputs": [
    {
     "data": {
      "text/plain": [
       "0     RT @MaraTellesReal: Austrália - o suicídio de um país financiado pela indústria do carvão que elege políticos ultra-conservadores, marketei…                                                                                                                                          \n",
       "1     #Navarro2023 recién dijeron que lo inducieron al suicidio y ahora esto https://t.co/3HixhvudbC                                                                                                                                                                                        \n",
       "2     RT @JCuenta1000: @Andguel SI !  LO FUE ....! (ASESINATO)  OJO !!!  ESTÁN INSTALANDO, QUE FUE ASESINADO, PERO POR \"OTROS\" !!!  COMO QUE LO H…                                                                                                                                          \n",
       "3     RT @aaahcarol: vamos falar sobre saúde mental?  conversei com meu psiquiatra essa semana e ele me disse que a época do ano com maior índice…                                                                                                                                          \n",
       "4     RT @Larissathielly3: Sextou cm S de suicídio                                                                                                                                                                                                                                          \n",
       "5     RT @jotaalonso: Furioso ataque de TN y la derecha israelí a Rabbani que fue enttevistado por @Gatosylvestre en @Radio10:  1 Rabbani habló d…                                                                                                                                          \n",
       "6     RT @lucasrohan: 🔴🇲🇽 MÉXICO URGENTE  Criança de 12 anos abre fogo em escola em Torreón, mata professor, fere 4 colegas e comete suicídio                                                                                                                                               \n",
       "7     RT @lucasrohan: 🔴🇲🇽 MÉXICO URGENTE  Criança de 12 anos abre fogo em escola em Torreón, mata professor, fere 4 colegas e comete suicídio                                                                                                                                               \n",
       "8     RT @lucasrohan: 🔴🇲🇽 MÉXICO URGENTE  Criança de 12 anos abre fogo em escola em Torreón, mata professor, fere 4 colegas e comete suicídio                                                                                                                                               \n",
       "9     RT @lucasrohan: 🔴🇲🇽 MÉXICO URGENTE  Criança de 12 anos abre fogo em escola em Torreón, mata professor, fere 4 colegas e comete suicídio                                                                                                                                               \n",
       "10    RT @lucasrohan: 🔴🇲🇽 MÉXICO URGENTE  Criança de 12 anos abre fogo em escola em Torreón, mata professor, fere 4 colegas e comete suicídio                                                                                                                                               \n",
       "11    RT @lucasrohan: 🔴🇲🇽 MÉXICO URGENTE  Criança de 12 anos abre fogo em escola em Torreón, mata professor, fere 4 colegas e comete suicídio                                                                                                                                               \n",
       "12    RT @lucasrohan: 🔴🇲🇽 MÉXICO URGENTE  Criança de 12 anos abre fogo em escola em Torreón, mata professor, fere 4 colegas e comete suicídio                                                                                                                                               \n",
       "13    RT @lucasrohan: 🔴🇲🇽 MÉXICO URGENTE  Criança de 12 anos abre fogo em escola em Torreón, mata professor, fere 4 colegas e comete suicídio                                                                                                                                               \n",
       "14    RT @lucasrohan: 🔴🇲🇽 MÉXICO URGENTE  Criança de 12 anos abre fogo em escola em Torreón, mata professor, fere 4 colegas e comete suicídio                                                                                                                                               \n",
       "15    RT @lucasrohan: 🔴🇲🇽 MÉXICO URGENTE  Criança de 12 anos abre fogo em escola em Torreón, mata professor, fere 4 colegas e comete suicídio                                                                                                                                               \n",
       "16    RT @lucasrohan: 🔴🇲🇽 MÉXICO URGENTE  Criança de 12 anos abre fogo em escola em Torreón, mata professor, fere 4 colegas e comete suicídio                                                                                                                                               \n",
       "17    eu vi gente apoiar a campanha contra o suicídio e afundar a vida de outras pessoas                                                                                                                                                                                                    \n",
       "18    RT @lucasrohan: 🔴🇲🇽 MÉXICO URGENTE  Criança de 12 anos abre fogo em escola em Torreón, mata professor, fere 4 colegas e comete suicídio                                                                                                                                               \n",
       "19    RT @lucasrohan: 🔴🇲🇽 MÉXICO URGENTE  Criança de 12 anos abre fogo em escola em Torreón, mata professor, fere 4 colegas e comete suicídio                                                                                                                                               \n",
       "20    RT @a16_gi: *reportagem sobre suicídio*    minha família: isso é frescura ainda bem que você nunca pensou nisso né?!  eu tentando disfarçar…                                                                                                                                          \n",
       "21    RT @vickybalenaa: a ver juntémonos todos en una casa grande prendemos el gas cerramos todo , nos drogamos bailamos un poquito y hacemos un…                                                                                                                                           \n",
       "22    RT @lucasrohan: 🔴🇲🇽 MÉXICO URGENTE  Criança de 12 anos abre fogo em escola em Torreón, mata professor, fere 4 colegas e comete suicídio                                                                                                                                               \n",
       "23    RT @lucasrohan: 🔴🇲🇽 MÉXICO URGENTE  Criança de 12 anos abre fogo em escola em Torreón, mata professor, fere 4 colegas e comete suicídio                                                                                                                                               \n",
       "24    Eso no interesa, no da dinero.  Cada dos horas y media se suicida una persona en España https://t.co/rJJWZLTTFS vía @laverdad_es                                                                                                                                                      \n",
       "25    — espírito ☆ — sem família ☆ — amigos: hongjoong, jongho e yeosang ☆ — não estuda ☆ — 21 anos :: 202 anos ☆ — como humano é empático e atencioso ☆ — causa mortis: suicídio ☆ https://t.co/Qew1BHrrzA                                                                                 \n",
       "26    RT @jotaalonso: Furioso ataque de TN y la derecha israelí a Rabbani que fue enttevistado por @Gatosylvestre en @Radio10:  1 Rabbani habló d…                                                                                                                                          \n",
       "27    RT @radioamericahn: El suicidio no es la solución a un problema temporal, siempre hay una salida. Si tienes algún problema y necesitas habl…                                                                                                                                          \n",
       "28    RT @efulganio: tentando entender pq deus fez a proeza de colocar alguém tao feio como eu no mundo serio #suicidio aq vou eu                                                                                                                                                           \n",
       "29    RT @lucasrohan: 🔴🇲🇽 MÉXICO URGENTE  Criança de 12 anos abre fogo em escola em Torreón, mata professor, fere 4 colegas e comete suicídio                                                                                                                                               \n",
       "                                                                       ...                                                                                                                                                                                                                  \n",
       "70    RT @majogm: Ah. Mirá vos la novedad. Pero algunos siguen insistiendo en suicidio.                                                                                                                                                                                                     \n",
       "71    @giacomi_leo @Desdemona_jna Lógicamente una rata avala la teoría de suicidio.                                                                                                                                                                                                         \n",
       "72    RT @lucasrohan: 🔴🇲🇽 MÉXICO URGENTE  Criança de 12 anos abre fogo em escola em Torreón, mata professor, fere 4 colegas e comete suicídio                                                                                                                                               \n",
       "73    RT @FilipeRet: Eh bom lembrar q o AÇÚCAR mata mais q a PÓLVORA  e o número de SUICÍDIO eh maior q de HOMICÍDIO no mundo                                                                                                                                                               \n",
       "74    RT @lucasrohan: 🔴🇲🇽 MÉXICO URGENTE  Criança de 12 anos abre fogo em escola em Torreón, mata professor, fere 4 colegas e comete suicídio                                                                                                                                               \n",
       "75    RT @jotaalonso: Furioso ataque de TN y la derecha israelí a Rabbani que fue enttevistado por @Gatosylvestre en @Radio10:  1 Rabbani habló d…                                                                                                                                          \n",
       "76    RT @PsiquiatraA: @lionfernandez Soledad o aislamiento podría conducir al suicidio, pero sé que si no se hace ejercicio, si no se come salud…                                                                                                                                          \n",
       "77    RT @lucasrohan: 🔴🇲🇽 MÉXICO URGENTE  Criança de 12 anos abre fogo em escola em Torreón, mata professor, fere 4 colegas e comete suicídio                                                                                                                                               \n",
       "78    RT @lucasrohan: 🔴🇲🇽 MÉXICO URGENTE  Criança de 12 anos abre fogo em escola em Torreón, mata professor, fere 4 colegas e comete suicídio                                                                                                                                               \n",
       "79    Eso cuenta como suicidio? https://t.co/MbMcDRZisd                                                                                                                                                                                                                                     \n",
       "80    RT @ingenierogorila: @DanielBilotta @ergasto De todos modos, prefiero que digan a eso a decir que fue un suicidio. La teoría del suicidio e…                                                                                                                                          \n",
       "81    RT @lucasrohan: 🔴🇲🇽 MÉXICO URGENTE  Criança de 12 anos abre fogo em escola em Torreón, mata professor, fere 4 colegas e comete suicídio                                                                                                                                               \n",
       "82    RT @FernandezAnibal: \"Nisman: Ex espía denunció que el macrismo lo guionó para implicar a CFK\"  El ex agente de inteligencia, Allan Bogado,…                                                                                                                                          \n",
       "83    RT @vickybalenaa: a ver juntémonos todos en una casa grande prendemos el gas cerramos todo , nos drogamos bailamos un poquito y hacemos un…                                                                                                                                           \n",
       "84    ⚽ El técnico Victor_SDA  habla por primera vez de su extorsión sexual: «Esto a veces acaba en suicidio» https://t.co/MwFdGq6OEX                                                                                                                                                       \n",
       "85    RT @lucasrohan: 🔴🇲🇽 MÉXICO URGENTE  Criança de 12 anos abre fogo em escola em Torreón, mata professor, fere 4 colegas e comete suicídio                                                                                                                                               \n",
       "86    RT @anisalud: Desde ANIS agradecemos a la ministra @luisacarcedo todo el apoyo y la colaboración recibida durante estos años y el buen trab…                                                                                                                                          \n",
       "87    RT @lucasrohan: 🔴🇲🇽 MÉXICO URGENTE  Criança de 12 anos abre fogo em escola em Torreón, mata professor, fere 4 colegas e comete suicídio                                                                                                                                               \n",
       "88    Un niño de 11 años ingresa con un arma a la escuela #Torreón. Ataca a la profesora y, al parecer, comete suicidio, no sin antes lesionar a varios compañeros  Terror. Pobres niños. Qué dolor para los padres  Está cabron. La neta se me hizo un nudo en la garganta                 \n",
       "89    Han pasado 24 mins (según medios locales) del homicidio y lesiones en escuela primaria de TORREÓN a manos de niño de 11 años, preliminar: maestra fallecida y suicidio del menor; presidente municipal dió entrevista en vivo. Ojalá aquí en #Leon fueran así de rápidas  autoridades.\n",
       "90    RT @lucasrohan: 🔴🇲🇽 MÉXICO URGENTE  Criança de 12 anos abre fogo em escola em Torreón, mata professor, fere 4 colegas e comete suicídio                                                                                                                                               \n",
       "91    RT @lucasrohan: 🔴🇲🇽 MÉXICO URGENTE  Criança de 12 anos abre fogo em escola em Torreón, mata professor, fere 4 colegas e comete suicídio                                                                                                                                               \n",
       "92    RT @Olivareslucia: Me parte el corazón ver tanta tristeza, tanto dolor, tanto abandono en nuestros niños. Esta semana la #ComarcaLagunera e…                                                                                                                                          \n",
       "93    @DJnolo1 y un epndejo bien feliz de un suicidio. ¡No, Bueno! 🤦‍♂️ ch k @reytirano66                                                                                                                                                                                                   \n",
       "94    RT @lucasrohan: 🔴🇲🇽 MÉXICO URGENTE  Criança de 12 anos abre fogo em escola em Torreón, mata professor, fere 4 colegas e comete suicídio                                                                                                                                               \n",
       "95    RT @Angelalerena: Mara Gómez pertenece a un sector social -las y los trans- cuya expectativa de vida no supera los 35 años. Las mata la vio…                                                                                                                                          \n",
       "96    RT @PsiquiatraA: @lionfernandez Soledad o aislamiento podría conducir al suicidio, pero sé que si no se hace ejercicio, si no se come salud…                                                                                                                                          \n",
       "97    RT @lucasrohan: 🔴🇲🇽 MÉXICO URGENTE  Criança de 12 anos abre fogo em escola em Torreón, mata professor, fere 4 colegas e comete suicídio                                                                                                                                               \n",
       "98    RT @lucasrohan: 🔴🇲🇽 MÉXICO URGENTE  Criança de 12 anos abre fogo em escola em Torreón, mata professor, fere 4 colegas e comete suicídio                                                                                                                                               \n",
       "99    RT @lucasrohan: 🔴🇲🇽 MÉXICO URGENTE  Criança de 12 anos abre fogo em escola em Torreón, mata professor, fere 4 colegas e comete suicídio                                                                                                                                               \n",
       "Name: Texto, Length: 100, dtype: object"
      ]
     },
     "execution_count": 5,
     "metadata": {},
     "output_type": "execute_result"
    }
   ],
   "source": [
    "# Expande o tamanho de exibição de coluna de texto\n",
    "pd.set_option('display.max_colwidth', -1)\n",
    "dataset.Texto.head(100)"
   ]
  },
  {
   "cell_type": "markdown",
   "metadata": {},
   "source": [
    "**Excluir Linhas duplicadas**"
   ]
  },
  {
   "cell_type": "code",
   "execution_count": 6,
   "metadata": {},
   "outputs": [],
   "source": [
    "dataset.drop_duplicates(['Texto'],inplace=True)"
   ]
  },
  {
   "cell_type": "code",
   "execution_count": 7,
   "metadata": {},
   "outputs": [
    {
     "data": {
      "text/plain": [
       "Usuario    122\n",
       "Texto      122\n",
       "Data       122\n",
       "dtype: int64"
      ]
     },
     "execution_count": 7,
     "metadata": {},
     "output_type": "execute_result"
    }
   ],
   "source": [
    "dataset.count()"
   ]
  },
  {
   "cell_type": "code",
   "execution_count": 8,
   "metadata": {},
   "outputs": [
    {
     "data": {
      "text/plain": [
       "Index(['Usuario', 'Texto', 'Data'], dtype='object')"
      ]
     },
     "execution_count": 8,
     "metadata": {},
     "output_type": "execute_result"
    }
   ],
   "source": [
    "# Visualizando o dataset\n",
    "dataset.columns"
   ]
  },
  {
   "cell_type": "markdown",
   "metadata": {},
   "source": [
    "## Pre-Processamento dos Dados"
   ]
  },
  {
   "cell_type": "markdown",
   "metadata": {},
   "source": [
    "* Remove linhas duplicadas na base de dados\n",
    "    - Problema na coleta dos dados.\n",
    "* Remove Stopwords\n",
    "* Faz Stemming nos dados\n",
    "* Remove caracteres indesejados como links, pontuação etc."
   ]
  },
  {
   "cell_type": "code",
   "execution_count": 9,
   "metadata": {},
   "outputs": [],
   "source": [
    "tweets = dataset['Texto']\n"
   ]
  },
  {
   "cell_type": "code",
   "execution_count": 10,
   "metadata": {},
   "outputs": [
    {
     "name": "stderr",
     "output_type": "stream",
     "text": [
      "[nltk_data] Downloading package stopwords to\n",
      "[nltk_data]     C:\\Users\\particular\\AppData\\Roaming\\nltk_data...\n",
      "[nltk_data]   Package stopwords is already up-to-date!\n",
      "[nltk_data] Downloading package rslp to\n",
      "[nltk_data]     C:\\Users\\particular\\AppData\\Roaming\\nltk_data...\n",
      "[nltk_data]   Package rslp is already up-to-date!\n"
     ]
    },
    {
     "data": {
      "text/plain": [
       "True"
      ]
     },
     "execution_count": 10,
     "metadata": {},
     "output_type": "execute_result"
    }
   ],
   "source": [
    "import nltk\n",
    "nltk.download('stopwords')\n",
    "nltk.download('rslp')"
   ]
  },
  {
   "cell_type": "markdown",
   "metadata": {},
   "source": [
    "**Funções de Pre-processamento de dados**"
   ]
  },
  {
   "cell_type": "code",
   "execution_count": 11,
   "metadata": {},
   "outputs": [],
   "source": [
    "def RemoveStopWords(instancia):\n",
    "    stopwords = set(nltk.corpus.stopwords.words('portuguese'))\n",
    "    palavras = [i for i in instancia.split() if not i in stopwords]\n",
    "    return (\" \".join(palavras))"
   ]
  },
  {
   "cell_type": "code",
   "execution_count": 12,
   "metadata": {},
   "outputs": [],
   "source": [
    "def Stemming(instancia):\n",
    "    stemmer = nltk.stem.RSLPStemmer()\n",
    "    palavras = []\n",
    "    for w in instancia.split():\n",
    "        palavras.append(stemmer.stem(w))\n",
    "    return (\" \".join(palavras))"
   ]
  },
  {
   "cell_type": "code",
   "execution_count": 13,
   "metadata": {},
   "outputs": [],
   "source": [
    "def Limpeza_dados(instancia):\n",
    "    # remove links, pontos, virgulas,ponto e virgulas dos tweets\n",
    "    instancia = re.sub(r\"http\\S+\", \"\", instancia).lower().replace('.','').replace(';','').replace('-','').replace(':','').replace(')','')\n",
    "    return (instancia)"
   ]
  },
  {
   "cell_type": "code",
   "execution_count": 14,
   "metadata": {},
   "outputs": [],
   "source": [
    "import emoji\n",
    "import regex\n",
    "\n",
    "def Limpa_emojis(linha):\n",
    "    emoji_counter = 0\n",
    "    data = regex.findall(r'\\X', linha)\n",
    "    for word in data:        \n",
    "        if any(char in emoji.UNICODE_EMOJI for char in word):\n",
    "            # Remove emoji do texto\n",
    "            linha = linha.replace(word, '') \n",
    "    return (linha)"
   ]
  },
  {
   "cell_type": "markdown",
   "metadata": {},
   "source": [
    "** Aplica as 3 funções de Pre-processamento nos dados**"
   ]
  },
  {
   "cell_type": "code",
   "execution_count": 15,
   "metadata": {},
   "outputs": [],
   "source": [
    "def Preprocessing(instancia):\n",
    "    stemmer = nltk.stem.RSLPStemmer()\n",
    "    instancia = Limpa_emojis(instancia)\n",
    "    instancia = re.sub(r\"http\\S+\", \"\", instancia).lower().replace('.','').replace(';','').replace('-','').replace(':','').replace(')','')\n",
    "    instancia = re.sub(r\"http\\S+\", \"\", instancia).lower().replace('[','').replace(']','').replace('@','').replace('(','').replace('/','')\n",
    "    instancia = re.sub(r\"http\\S+\", \"\", instancia).lower().replace('#','').replace('RT @','').replace('rt cvvoficial','')\n",
    "    instancia = re.sub(r\"http\\S+\", \"\", instancia).lower().replace('á','a').replace('é','e').replace('í','i').replace('ó','o').replace('ú','u')\n",
    "    instancia = re.sub(r\"http\\S+\", \"\", instancia).lower().replace('Á','A').replace('É','E').replace('Í','I').replace('Ó','O').replace('Ú','U')\n",
    "    instancia = re.sub(r\"http\\S+\", \"\", instancia).lower().replace('!','').replace('?','').replace('ã','a').replace('Ã','A').replace('õ','o').replace('Õ','O')\n",
    "    instancia = re.sub(r\"http\\S+\", \"\", instancia).lower().replace('â','a').replace('Â','A').replace('ê','e').replace('Ê','E').replace('ô','o').replace('Ô','O')\n",
    "    instancia = re.sub(r\"http\\S+\", \"\", instancia).lower().replace('💛','').replace('🎗','').replace('🤔','').replace('💡','').replace('☠','').replace('😋','')\n",
    "    instancia = re.sub(r\"http\\S+\", \"\", instancia).lower().replace('😭','').replace('📼','').replace('🚿','').replace('☢️','').replace('😬','').replace('🙄','')\n",
    "    instancia = re.sub(r\"http\\S+\", \"\", instancia).lower().replace('👇','').replace('🔗','').replace('📰','').replace('🖤','').replace('🙌','').replace('🙄','')\n",
    "\n",
    "    stopwords = set(nltk.corpus.stopwords.words('portuguese'))\n",
    "    palavras = [stemmer.stem(i)  for i in instancia.split() if not i in stopwords]\n",
    "    return (\" \".join(palavras))\n",
    " \n",
    "\n",
    "# Aplica a função em todos os dados:\n",
    "tweets = [Preprocessing(i) for i in tweets]"
   ]
  },
  {
   "cell_type": "markdown",
   "metadata": {},
   "source": [
    "** imprimindo 3 primeiras linhas (antes/depois)para conferir como ficou  ***"
   ]
  },
  {
   "cell_type": "code",
   "execution_count": 16,
   "metadata": {},
   "outputs": [
    {
     "name": "stdout",
     "output_type": "stream",
     "text": [
      "==> DEPOIS DO PRE PROCESSAMENTO\n"
     ]
    },
    {
     "data": {
      "text/plain": [
       "['rt maratellesre austral suicidi pal financi industr carva eleg poli ultraconservadores, marketei…',\n",
       " 'navarro2023 recien dijeron lo inducieron al suicidi y ahor est',\n",
       " 'rt jcuenta1000 andguel si lo fue asesinat ojo estan instalando, fue asesinado, per \"otros\" lo h…']"
      ]
     },
     "execution_count": 16,
     "metadata": {},
     "output_type": "execute_result"
    }
   ],
   "source": [
    "print('==> DEPOIS DO PRE PROCESSAMENTO')\n",
    "tweets[:3]"
   ]
  },
  {
   "cell_type": "code",
   "execution_count": 17,
   "metadata": {},
   "outputs": [
    {
     "name": "stdout",
     "output_type": "stream",
     "text": [
      "==> ANTES  DO PRE PROCESSAMENTO\n"
     ]
    },
    {
     "data": {
      "text/plain": [
       "0    RT @MaraTellesReal: Austrália - o suicídio de um país financiado pela indústria do carvão que elege políticos ultra-conservadores, marketei…\n",
       "1    #Navarro2023 recién dijeron que lo inducieron al suicidio y ahora esto https://t.co/3HixhvudbC                                              \n",
       "2    RT @JCuenta1000: @Andguel SI !  LO FUE ....! (ASESINATO)  OJO !!!  ESTÁN INSTALANDO, QUE FUE ASESINADO, PERO POR \"OTROS\" !!!  COMO QUE LO H…\n",
       "Name: Texto, dtype: object"
      ]
     },
     "execution_count": 17,
     "metadata": {},
     "output_type": "execute_result"
    }
   ],
   "source": [
    "# Expande o tamanho de exibição de coluna de texto\n",
    "print('==> ANTES  DO PRE PROCESSAMENTO')\n",
    "pd.set_option('display.max_colwidth', -1)\n",
    "dataset.Texto.head(3)"
   ]
  },
  {
   "cell_type": "markdown",
   "metadata": {},
   "source": [
    "*** Gravando arquivo para uso na Classificação ***"
   ]
  },
  {
   "cell_type": "code",
   "execution_count": 18,
   "metadata": {},
   "outputs": [],
   "source": [
    "dataset['Texto_Limpo'] = tweets"
   ]
  },
  {
   "cell_type": "code",
   "execution_count": 19,
   "metadata": {},
   "outputs": [
    {
     "data": {
      "text/html": [
       "<div>\n",
       "<style scoped>\n",
       "    .dataframe tbody tr th:only-of-type {\n",
       "        vertical-align: middle;\n",
       "    }\n",
       "\n",
       "    .dataframe tbody tr th {\n",
       "        vertical-align: top;\n",
       "    }\n",
       "\n",
       "    .dataframe thead th {\n",
       "        text-align: right;\n",
       "    }\n",
       "</style>\n",
       "<table border=\"1\" class=\"dataframe\">\n",
       "  <thead>\n",
       "    <tr style=\"text-align: right;\">\n",
       "      <th></th>\n",
       "      <th>Usuario</th>\n",
       "      <th>Texto</th>\n",
       "      <th>Data</th>\n",
       "      <th>Texto_Limpo</th>\n",
       "    </tr>\n",
       "  </thead>\n",
       "  <tbody>\n",
       "    <tr>\n",
       "      <th>0</th>\n",
       "      <td>eudavireis</td>\n",
       "      <td>RT @MaraTellesReal: Austrália - o suicídio de um país financiado pela indústria do carvão que elege políticos ultra-conservadores, marketei…</td>\n",
       "      <td>2020-01-10 15:54:23</td>\n",
       "      <td>rt maratellesre austral suicidi pal financi industr carva eleg poli ultraconservadores, marketei…</td>\n",
       "    </tr>\n",
       "    <tr>\n",
       "      <th>1</th>\n",
       "      <td>Agu58414164</td>\n",
       "      <td>#Navarro2023 recién dijeron que lo inducieron al suicidio y ahora esto https://t.co/3HixhvudbC</td>\n",
       "      <td>2020-01-10 15:54:23</td>\n",
       "      <td>navarro2023 recien dijeron lo inducieron al suicidi y ahor est</td>\n",
       "    </tr>\n",
       "    <tr>\n",
       "      <th>2</th>\n",
       "      <td>JuncoWelsh</td>\n",
       "      <td>RT @JCuenta1000: @Andguel SI !  LO FUE ....! (ASESINATO)  OJO !!!  ESTÁN INSTALANDO, QUE FUE ASESINADO, PERO POR \"OTROS\" !!!  COMO QUE LO H…</td>\n",
       "      <td>2020-01-10 15:54:19</td>\n",
       "      <td>rt jcuenta1000 andguel si lo fue asesinat ojo estan instalando, fue asesinado, per \"otros\" lo h…</td>\n",
       "    </tr>\n",
       "    <tr>\n",
       "      <th>3</th>\n",
       "      <td>rockertux</td>\n",
       "      <td>RT @aaahcarol: vamos falar sobre saúde mental?  conversei com meu psiquiatra essa semana e ele me disse que a época do ano com maior índice…</td>\n",
       "      <td>2020-01-10 15:54:16</td>\n",
       "      <td>rt aaahcarol vam fal sobr saud ment convers psiquiatr seman diss epoc ano mai indice…</td>\n",
       "    </tr>\n",
       "    <tr>\n",
       "      <th>4</th>\n",
       "      <td>kasouzasz</td>\n",
       "      <td>RT @Larissathielly3: Sextou cm S de suicídio</td>\n",
       "      <td>2020-01-10 15:54:08</td>\n",
       "      <td>rt larissathielly3 sext cm s suicidi</td>\n",
       "    </tr>\n",
       "  </tbody>\n",
       "</table>\n",
       "</div>"
      ],
      "text/plain": [
       "       Usuario  \\\n",
       "0  eudavireis    \n",
       "1  Agu58414164   \n",
       "2  JuncoWelsh    \n",
       "3  rockertux     \n",
       "4  kasouzasz     \n",
       "\n",
       "                                                                                                                                          Texto  \\\n",
       "0  RT @MaraTellesReal: Austrália - o suicídio de um país financiado pela indústria do carvão que elege políticos ultra-conservadores, marketei…   \n",
       "1  #Navarro2023 recién dijeron que lo inducieron al suicidio y ahora esto https://t.co/3HixhvudbC                                                 \n",
       "2  RT @JCuenta1000: @Andguel SI !  LO FUE ....! (ASESINATO)  OJO !!!  ESTÁN INSTALANDO, QUE FUE ASESINADO, PERO POR \"OTROS\" !!!  COMO QUE LO H…   \n",
       "3  RT @aaahcarol: vamos falar sobre saúde mental?  conversei com meu psiquiatra essa semana e ele me disse que a época do ano com maior índice…   \n",
       "4  RT @Larissathielly3: Sextou cm S de suicídio                                                                                                   \n",
       "\n",
       "                  Data  \\\n",
       "0  2020-01-10 15:54:23   \n",
       "1  2020-01-10 15:54:23   \n",
       "2  2020-01-10 15:54:19   \n",
       "3  2020-01-10 15:54:16   \n",
       "4  2020-01-10 15:54:08   \n",
       "\n",
       "                                                                                         Texto_Limpo  \n",
       "0  rt maratellesre austral suicidi pal financi industr carva eleg poli ultraconservadores, marketei…  \n",
       "1  navarro2023 recien dijeron lo inducieron al suicidi y ahor est                                     \n",
       "2  rt jcuenta1000 andguel si lo fue asesinat ojo estan instalando, fue asesinado, per \"otros\" lo h…   \n",
       "3  rt aaahcarol vam fal sobr saud ment convers psiquiatr seman diss epoc ano mai indice…              \n",
       "4  rt larissathielly3 sext cm s suicidi                                                               "
      ]
     },
     "execution_count": 19,
     "metadata": {},
     "output_type": "execute_result"
    }
   ],
   "source": [
    "dataset.head()"
   ]
  },
  {
   "cell_type": "code",
   "execution_count": 20,
   "metadata": {},
   "outputs": [
    {
     "data": {
      "text/html": [
       "<div>\n",
       "<style scoped>\n",
       "    .dataframe tbody tr th:only-of-type {\n",
       "        vertical-align: middle;\n",
       "    }\n",
       "\n",
       "    .dataframe tbody tr th {\n",
       "        vertical-align: top;\n",
       "    }\n",
       "\n",
       "    .dataframe thead th {\n",
       "        text-align: right;\n",
       "    }\n",
       "</style>\n",
       "<table border=\"1\" class=\"dataframe\">\n",
       "  <thead>\n",
       "    <tr style=\"text-align: right;\">\n",
       "      <th></th>\n",
       "      <th>Usuario</th>\n",
       "      <th>Texto_Limpo</th>\n",
       "    </tr>\n",
       "  </thead>\n",
       "  <tbody>\n",
       "    <tr>\n",
       "      <th>0</th>\n",
       "      <td>eudavireis</td>\n",
       "      <td>rt maratellesre austral suicidi pal financi industr carva eleg poli ultraconservadores, marketei…</td>\n",
       "    </tr>\n",
       "    <tr>\n",
       "      <th>1</th>\n",
       "      <td>Agu58414164</td>\n",
       "      <td>navarro2023 recien dijeron lo inducieron al suicidi y ahor est</td>\n",
       "    </tr>\n",
       "    <tr>\n",
       "      <th>2</th>\n",
       "      <td>JuncoWelsh</td>\n",
       "      <td>rt jcuenta1000 andguel si lo fue asesinat ojo estan instalando, fue asesinado, per \"otros\" lo h…</td>\n",
       "    </tr>\n",
       "    <tr>\n",
       "      <th>3</th>\n",
       "      <td>rockertux</td>\n",
       "      <td>rt aaahcarol vam fal sobr saud ment convers psiquiatr seman diss epoc ano mai indice…</td>\n",
       "    </tr>\n",
       "    <tr>\n",
       "      <th>4</th>\n",
       "      <td>kasouzasz</td>\n",
       "      <td>rt larissathielly3 sext cm s suicidi</td>\n",
       "    </tr>\n",
       "  </tbody>\n",
       "</table>\n",
       "</div>"
      ],
      "text/plain": [
       "       Usuario  \\\n",
       "0  eudavireis    \n",
       "1  Agu58414164   \n",
       "2  JuncoWelsh    \n",
       "3  rockertux     \n",
       "4  kasouzasz     \n",
       "\n",
       "                                                                                         Texto_Limpo  \n",
       "0  rt maratellesre austral suicidi pal financi industr carva eleg poli ultraconservadores, marketei…  \n",
       "1  navarro2023 recien dijeron lo inducieron al suicidi y ahor est                                     \n",
       "2  rt jcuenta1000 andguel si lo fue asesinat ojo estan instalando, fue asesinado, per \"otros\" lo h…   \n",
       "3  rt aaahcarol vam fal sobr saud ment convers psiquiatr seman diss epoc ano mai indice…              \n",
       "4  rt larissathielly3 sext cm s suicidi                                                               "
      ]
     },
     "execution_count": 20,
     "metadata": {},
     "output_type": "execute_result"
    }
   ],
   "source": [
    "dataset.drop('Texto', inplace=True, axis=1)\n",
    "dataset.drop('Data', inplace=True, axis=1)\n",
    "dataset.head()"
   ]
  },
  {
   "cell_type": "code",
   "execution_count": 21,
   "metadata": {},
   "outputs": [],
   "source": [
    "os.chdir('C:\\\\Users\\\\particular\\\\SERIQUE_TCC\\\\')\n",
    "separator = ';'\n",
    "dataset.to_csv('total_arquivos_limpo.csv', sep=separator)"
   ]
  },
  {
   "cell_type": "code",
   "execution_count": null,
   "metadata": {},
   "outputs": [],
   "source": []
  }
 ],
 "metadata": {
  "kernelspec": {
   "display_name": "Python 3",
   "language": "python",
   "name": "python3"
  },
  "language_info": {
   "codemirror_mode": {
    "name": "ipython",
    "version": 3
   },
   "file_extension": ".py",
   "mimetype": "text/x-python",
   "name": "python",
   "nbconvert_exporter": "python",
   "pygments_lexer": "ipython3",
   "version": "3.7.3"
  }
 },
 "nbformat": 4,
 "nbformat_minor": 2
}
