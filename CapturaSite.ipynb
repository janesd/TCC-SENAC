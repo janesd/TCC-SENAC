{
 "cells": [
  {
   "cell_type": "markdown",
   "metadata": {},
   "source": [
    "# CapturaSite\n",
    "- este programa acessa o site Mundo das Mensagens \n",
    "- que tem mensagens divididas por tipo (Amor, fé, saudade,etc)\n",
    "- Guarda em um array (tipo da mensagem, texto da mensagem)\n",
    "- Depois, usando tabela de-para, para cada tipo da mensagem, define se:\n",
    "-                 positivo, negativo e neutro"
   ]
  },
  {
   "cell_type": "code",
   "execution_count": 1,
   "metadata": {},
   "outputs": [
    {
     "name": "stdout",
     "output_type": "stream",
     "text": [
      "115341\n"
     ]
    }
   ],
   "source": [
    "import requests\n",
    "r = requests.get('https://www.mundodasmensagens.com')\n",
    "print(len(r.text))"
   ]
  },
  {
   "cell_type": "code",
   "execution_count": 2,
   "metadata": {},
   "outputs": [
    {
     "name": "stdout",
     "output_type": "stream",
     "text": [
      "<title>Mensagens - Mundo das Mensagens</title>\n",
      "Mensagens - Mundo das Mensagens\n"
     ]
    }
   ],
   "source": [
    "from bs4 import BeautifulSoup\n",
    "soup = BeautifulSoup(r.text)\n",
    "print(soup.title)\n",
    "print(soup.title.string)"
   ]
  },
  {
   "cell_type": "code",
   "execution_count": 24,
   "metadata": {},
   "outputs": [],
   "source": [
    "# Definindo polaridades para os tipos de mensagem\n",
    "\n",
    "positiva = ['Amor', 'Agradecimento', 'Amizade', 'Feliz Aniversário', 'Otimismo', 'Reflexão']\n",
    "negativa = ['Finados', 'Dor', 'Tristeza', 'Saudade', 'Falecimento']\n"
   ]
  },
  {
   "cell_type": "code",
   "execution_count": 25,
   "metadata": {},
   "outputs": [],
   "source": [
    "base_url = 'https://www.mundodasmensagens.com'\n",
    "mensagens_links = []\n",
    "for link in soup.find_all('a'):\n",
    "    url = link.get('href')\n",
    "    if url and '/mensagens' in url:\n",
    "        mensagens_links.append(url)\n",
    "#print(len(mensagens_links))\n",
    "#print(mensagens_links)"
   ]
  },
  {
   "cell_type": "code",
   "execution_count": 29,
   "metadata": {},
   "outputs": [
    {
     "name": "stdout",
     "output_type": "stream",
     "text": [
      "Agradecimento positiva\n",
      "Amor positiva\n",
      "Amizade positiva\n",
      "Feliz Aniversário positiva\n",
      "Otimismo positiva\n",
      "Reflexão positiva\n",
      "Saudade negativa\n",
      "Finados negativa\n",
      "Amor positiva\n",
      "Feliz Aniversário positiva\n",
      "Reflexão positiva\n",
      "Amizade positiva\n",
      "Declaração de Amor neutra\n",
      "Agradecimento positiva\n",
      "Saudade negativa\n",
      "Amor positiva\n",
      "Feliz Aniversário para Amiga neutra\n",
      "Otimismo positiva\n",
      "sagens para Namoro neutra\n",
      "sagens Eróticas neutra\n",
      "dos Pais 2019: lindas mensagens, frases, imagens e mais neutra\n",
      "sagens para o Dia das Mães neutra\n",
      "Bom Dia Românticas neutra\n",
      "Eu Te Amo neutra\n",
      "sagens para o Dia dos Namorados neutra\n",
      "Agradecimento a Deus neutra\n",
      "Desculpa neutra\n",
      "Boa Noite neutra\n",
      "Bom Dia neutra\n",
      "Aniversário para Irmã neutra\n",
      "Amor para Filhos neutra\n",
      "sagens Românticas neutra\n",
      "sagens para o Dia da Mulher neutra\n",
      "Um Ano de Namoro neutra\n",
      "Reflexão sobre a Vida neutra\n",
      "Falecimento neutra\n",
      "Despedida neutra\n",
      "sagens para Amigos neutra\n",
      "Aniversário neutra\n",
      "Gravidez neutra\n",
      "Nascimento de Bebê neutra\n",
      "Felicidade neutra\n",
      "Aniversário para Filha neutra\n",
      "Tristeza negativa\n",
      "Despedida de Trabalho neutra\n",
      "Lição de Vida neutra\n",
      "Carinho neutra\n",
      "Amor e Saudades neutra\n",
      "Término de Namoro neutra\n",
      "Incentivo neutra\n",
      "Família neutra\n",
      "Pêsames neutra\n",
      "Mensagens (Página 2) neutra\n",
      "Mensagens (Página 3) neutra\n",
      "Mensagens (Página 4) neutra\n",
      "Mensagens (Página 5) neutra\n",
      "Mensagens (Página 6) neutra\n",
      "Mensagens (Página 7) neutra\n",
      "Mensagens (Página 8) neutra\n",
      "Mensagens (Página 9) neutra\n",
      "Mensagens (Página 10) neutra\n",
      "Mensagens (Página 2) neutra\n",
      "Amor positiva\n",
      "Reflexão positiva\n",
      "Amizade positiva\n",
      "Agradecimento positiva\n",
      "Saudade negativa\n",
      "Otimismo positiva\n",
      "sagens para Namoro neutra\n",
      "sagens mais vistas neutra\n",
      "sagens mais recentes neutra\n",
      "Mensagens neutra\n",
      "sagens mais vistas neutra\n",
      "sagens mais recentes neutra\n",
      "Mensagens neutra\n"
     ]
    }
   ],
   "source": [
    "# para pegar todas as páginas - a função strip() serve para retirar espaços em branco\n",
    "import re\n",
    "\n",
    "data = {}\n",
    "nr = 1\n",
    "for mensagem_link in mensagens_links:\n",
    "    url = base_url + mensagem_link\n",
    "    #print(url)\n",
    "    r = requests.get(base_url + mensagem_link)\n",
    "    soup = BeautifulSoup(r.text)\n",
    "    s = soup.title.string\n",
    "    s_string = str(s)\n",
    "    ini = s_string.find(' de')\n",
    "    fim = s_string.find('-')\n",
    "    tam = fim - ini \n",
    "    tipomensagem = (s_string[(ini+4):(ini+tam)]).strip()\n",
    "    polaridade = 'neutra'\n",
    "    if tipomensagem in positiva:\n",
    "        polaridade = 'positiva'\n",
    "    if tipomensagem in negativa:\n",
    "        polaridade = 'negativa'   \n",
    "    print(tipomensagem, polaridade)\n",
    "    data[nr] = polaridade + \",\" +  re.sub(r'\\r\\n','',soup.p.text)\n",
    "    nr += 1\n"
   ]
  },
  {
   "cell_type": "code",
   "execution_count": 27,
   "metadata": {},
   "outputs": [
    {
     "name": "stdout",
     "output_type": "stream",
     "text": [
      "75\n"
     ]
    }
   ],
   "source": [
    "print(len(data))\n"
   ]
  },
  {
   "cell_type": "code",
   "execution_count": 30,
   "metadata": {},
   "outputs": [],
   "source": [
    "import csv\n",
    "\n",
    "from datetime import datetime\n",
    "NomArq = 'Mensagens_Todas_' + str(datetime.now().strftime('%Y_%m_%d_%H_%M_%S')) + '.csv'\n",
    "NomArq\n",
    "with open(NomArq,'w') as f:\n",
    "    w = csv.writer(f)\n",
    "    w.writerows(data.items())"
   ]
  },
  {
   "cell_type": "code",
   "execution_count": 31,
   "metadata": {},
   "outputs": [
    {
     "data": {
      "text/plain": [
       "'C:\\\\Users\\\\particular'"
      ]
     },
     "execution_count": 31,
     "metadata": {},
     "output_type": "execute_result"
    }
   ],
   "source": [
    "# descobrindo qual diretório está fixado, lembrar que o formato é com  C:\\\\nome\\\\nome\\\\  \n",
    "import os\n",
    "os.getcwd()\n",
    "\n",
    "# para modificar o diretório ...\n",
    "# os.chdir('/')"
   ]
  },
  {
   "cell_type": "code",
   "execution_count": null,
   "metadata": {},
   "outputs": [],
   "source": []
  }
 ],
 "metadata": {
  "kernelspec": {
   "display_name": "Python 3",
   "language": "python",
   "name": "python3"
  },
  "language_info": {
   "codemirror_mode": {
    "name": "ipython",
    "version": 3
   },
   "file_extension": ".py",
   "mimetype": "text/x-python",
   "name": "python",
   "nbconvert_exporter": "python",
   "pygments_lexer": "ipython3",
   "version": "3.7.3"
  }
 },
 "nbformat": 4,
 "nbformat_minor": 2
}
